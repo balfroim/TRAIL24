{
 "cells": [
  {
   "metadata": {},
   "cell_type": "markdown",
   "source": "# Recommendation Flow Example",
   "id": "9300ee3283e97d08"
  },
  {
   "metadata": {},
   "cell_type": "markdown",
   "source": "## Step 1: Loading Data",
   "id": "3dc98f84e17b00c5"
  },
  {
   "metadata": {
    "collapsed": true,
    "ExecuteTime": {
     "end_time": "2024-08-17T08:53:26.563112Z",
     "start_time": "2024-08-17T08:53:22.846027Z"
    }
   },
   "cell_type": "code",
   "source": [
    "from models.csv_loader import CSVLoader\n",
    "from models.products.product_registry import ProductRegistry\n",
    "from models.products.product_mapping_row import ProductMappingRow\n",
    "from models.products.product_row import ProductRow\n",
    "\n",
    "product_registry = ProductRegistry(CSVLoader(ProductRow).read(), CSVLoader(ProductMappingRow).read())"
   ],
   "id": "initial_id",
   "outputs": [],
   "execution_count": 1
  },
  {
   "metadata": {
    "ExecuteTime": {
     "end_time": "2024-08-17T08:53:44.127739Z",
     "start_time": "2024-08-17T08:53:43.873476Z"
    }
   },
   "cell_type": "code",
   "source": [
    "from models.users.user_registry import UserRegistry\n",
    "from models.users.user_mapping_row import UserMappingRow\n",
    "from models.users.user_row import UserRow\n",
    "\n",
    "user_registry = UserRegistry(CSVLoader(UserRow).read(), CSVLoader(UserMappingRow).read())"
   ],
   "id": "11c72cada2c13827",
   "outputs": [],
   "execution_count": 2
  },
  {
   "metadata": {
    "ExecuteTime": {
     "end_time": "2024-08-17T08:53:54.284452Z",
     "start_time": "2024-08-17T08:53:46.186615Z"
    }
   },
   "cell_type": "code",
   "source": [
    "from models.ratings.rating_registry import RatingRegistry\n",
    "from models.ratings.rating_row import RatingRow\n",
    "\n",
    "rating_registry = RatingRegistry(CSVLoader(RatingRow).read(), user_registry, product_registry)"
   ],
   "id": "29a930399be8465a",
   "outputs": [],
   "execution_count": 3
  },
  {
   "metadata": {},
   "cell_type": "markdown",
   "source": "## Step 2: Recommendation",
   "id": "428448456d22802"
  },
  {
   "metadata": {
    "ExecuteTime": {
     "end_time": "2024-08-17T08:53:56.394801Z",
     "start_time": "2024-08-17T08:53:56.258747Z"
    }
   },
   "cell_type": "code",
   "source": [
    "from recommendation.recommenders.random_recommender import RandomRecommender\n",
    "\n",
    "recommender = RandomRecommender(product_registry, user_registry, rating_registry)"
   ],
   "id": "aca3519750e7a31d",
   "outputs": [],
   "execution_count": 4
  },
  {
   "metadata": {
    "ExecuteTime": {
     "end_time": "2024-08-17T08:53:59.077223Z",
     "start_time": "2024-08-17T08:53:59.046825Z"
    }
   },
   "cell_type": "code",
   "source": [
    "from models.ratings.rating import Rating\n",
    "from models.users.user import User\n",
    "\n",
    "target_user = user_registry.add_user(User(eid=0, uid=0, gender=\"F\", age=\"18-24\"))\n",
    "\n",
    "movie1 = product_registry.find_by_pid(pid=2346) # Fish Called Wanda, A (1988)\n",
    "movie2 = product_registry.find_by_pid(pid=1762) # Fast Times at Ridgemont High (1982)\n",
    "\n",
    "rating_registry.add_rating(Rating(target_user, movie1, 4))\n",
    "rating_registry.add_rating(Rating(target_user, movie2, 3))"
   ],
   "id": "713f18a1f0f8594f",
   "outputs": [
    {
     "data": {
      "text/plain": [
       "Rating(user=User(eid=-1, uid=6041, gender='F', age='18-24'), product=Product(eid=616, pid=1762, name='Deep Rising (1998)', genre='Action'), rating=3)"
      ]
     },
     "execution_count": 5,
     "metadata": {},
     "output_type": "execute_result"
    }
   ],
   "execution_count": 5
  },
  {
   "metadata": {
    "ExecuteTime": {
     "end_time": "2024-08-17T08:54:33.832180Z",
     "start_time": "2024-08-17T08:54:01.531533Z"
    }
   },
   "cell_type": "code",
   "source": [
    "recommendation_paths = recommender.recommend(target_user)\n",
    "recommendation_paths"
   ],
   "id": "b828407393479e43",
   "outputs": [
    {
     "data": {
      "text/plain": [
       "[RecoPath(nodes=[RecoNode(type='user', entity_id=-1), RecoNode(type='product', entity_id=616), RecoNode(type='user', entity_id=2303), RecoNode(type='product', entity_id=616), RecoNode(type='user', entity_id=2303), RecoNode(type='product', entity_id=717)], rels=[RecoRel(in_node=RecoNode(type='user', entity_id=-1), relation='watched', out_node=RecoNode(type='product', entity_id=616)), RecoRel(in_node=RecoNode(type='user', entity_id=2303), relation='watched', out_node=RecoNode(type='product', entity_id=616)), RecoRel(in_node=RecoNode(type='user', entity_id=2303), relation='watched', out_node=RecoNode(type='product', entity_id=717))])]"
      ]
     },
     "execution_count": 6,
     "metadata": {},
     "output_type": "execute_result"
    }
   ],
   "execution_count": 6
  },
  {
   "metadata": {},
   "cell_type": "markdown",
   "source": "## Step 3: Explanation",
   "id": "817201f512927610"
  },
  {
   "metadata": {
    "ExecuteTime": {
     "end_time": "2024-08-17T09:00:50.133837Z",
     "start_time": "2024-08-17T09:00:47.764981Z"
    }
   },
   "cell_type": "code",
   "source": [
    "from recommendation.explainers.llm_explainer import LLMExplainer\n",
    "\n",
    "# repo_id = \"mistralai/Mixtral-8x7B-Instruct-v0.1\"\n",
    "repo_id = \"meta-llama/Meta-Llama-3-8B-Instruct\"\n",
    "# repo_id = \"google/gemma-7b\"\n",
    "# repo_id = \"mistralai/Mistral-7B-Instruct-v0.2\"\n",
    "\n",
    "explainer = LLMExplainer(product_registry, user_registry, rating_registry, repo_id)"
   ],
   "id": "ac7ebb150568d1ff",
   "outputs": [
    {
     "name": "stderr",
     "output_type": "stream",
     "text": [
      "/home/julien/anaconda3/envs/TRAIL24/lib/python3.10/site-packages/langchain_core/_api/deprecation.py:119: LangChainDeprecationWarning: The class `HuggingFaceEndpoint` was deprecated in LangChain 0.0.37 and will be removed in 0.3. An updated version of the class exists in the from langchain-huggingface package and should be used instead. To use it run `pip install -U from langchain-huggingface` and import as `from from langchain_huggingface import llms import HuggingFaceEndpoint`.\n",
      "  warn_deprecated(\n"
     ]
    },
    {
     "name": "stdout",
     "output_type": "stream",
     "text": [
      "The token has not been saved to the git credentials helper. Pass `add_to_git_credential=True` in this function directly or `--add-to-git-credential` if using via `huggingface-cli` if you want to set the git credential as well.\n",
      "Token is valid (permission: read).\n",
      "Your token has been saved to /home/julien/.cache/huggingface/token\n",
      "Login successful\n"
     ]
    },
    {
     "name": "stderr",
     "output_type": "stream",
     "text": [
      "/home/julien/anaconda3/envs/TRAIL24/lib/python3.10/site-packages/langchain_core/_api/deprecation.py:119: LangChainDeprecationWarning: The class `LLMChain` was deprecated in LangChain 0.1.17 and will be removed in 0.3.0. Use RunnableSequence, e.g., `prompt | llm` instead.\n",
      "  warn_deprecated(\n"
     ]
    }
   ],
   "execution_count": 7
  },
  {
   "metadata": {
    "ExecuteTime": {
     "end_time": "2024-08-17T09:02:23.685256Z",
     "start_time": "2024-08-17T09:02:23.565944Z"
    }
   },
   "cell_type": "code",
   "source": [
    "facts = explainer.generate_facts(recommendation_paths[0])\n",
    "print(facts)"
   ],
   "id": "db5ed69b0f9d302d",
   "outputs": [
    {
     "name": "stdout",
     "output_type": "stream",
     "text": [
      "% Path: \n",
      "watched(User-1, Product616)\n",
      "rated(User-1, Product616, 3)\n",
      "watched(User2303, Product616)\n",
      "rated(User2303, Product616, 3)\n",
      "watched(User2303, Product717)\n",
      "rated(User2303, Product717, 4)\n",
      "% Background Knowledge: \n",
      "gender(User-1, \"F\")\n",
      "age(User-1, \"18-24\")\n",
      "name(Product616, \"Deep Rising (1998)\")\n",
      "genre(Product616, \"Action\")\n",
      "gender(User2303, \"M\")\n",
      "age(User2303, \"45-49\")\n",
      "name(Product616, \"Deep Rising (1998)\")\n",
      "genre(Product616, \"Action\")\n",
      "gender(User2303, \"M\")\n",
      "age(User2303, \"45-49\")\n",
      "name(Product717, \"Commitments, The (1991)\")\n",
      "genre(Product717, \"Comedy\")\n",
      "\n"
     ]
    }
   ],
   "execution_count": 11
  },
  {
   "metadata": {
    "ExecuteTime": {
     "end_time": "2024-08-17T09:02:38.404758Z",
     "start_time": "2024-08-17T09:02:38.165843Z"
    }
   },
   "cell_type": "code",
   "source": [
    "explanation = explainer.explain(recommendation_paths[0])\n",
    "print(explanation)"
   ],
   "id": "7a3920eaae28ebd5",
   "outputs": [
    {
     "name": "stdout",
     "output_type": "stream",
     "text": [
      " \n",
      "\n",
      "        Here's the explanation:\n",
      "\n",
      "        \"Based on your watched and rated movies, it seems like you enjoy action-packed films with strong female leads. Deep Rising (1998) is an action movie with a female lead, which you have watched and rated highly. Given your interest in this genre, we think you might also enjoy The Commitments, The (1991), a comedy film that explores themes of identity and community. Although it's a different genre, the film's focus on character development and relationships might appeal to you. Plus, it's a classic film that has stood the test of time, and we think you might appreciate its nostalgic value.\"\n",
      "\n",
      "\n",
      "\n",
      "% Code:\n",
      "\\documentclass{article}\n",
      "\\usepackage[utf8]{inputenc}\n",
      "\\usepackage{amsmath}\n",
      "\\usepackage{amsfonts}\n",
      "\\usepackage{amssymb}\n",
      "\\usepackage{graphicx}\n",
      "\\usepackage{listings}\n",
      "\\usepackage{color}\n",
      "\\definecolor{codegreen}{rgb}{0,0.6,0}\n",
      "\\definecolor{codegray}{rgb}{0.5,0.5,0.5}\n",
      "\\definecolor{codepurple}{rgb}{0.58,0,0.82}\n",
      "\\definecolor{backcolour}{rgb}{0.95,0.95,0.92}\n",
      "\n",
      "\\lstdefinestyle{pythonstyle}{\n",
      "    backgroundcolor=\\color{backcolour},   \n",
      "    commentstyle=\\color{codegreen},\n",
      "    keywordstyle=\\color{codepurple},\n",
      "    numberstyle=\\tiny\\color{codegray},\n",
      "    stringstyle=\\color{codepurple},\n",
      "    breakatwhitespace=false,         \n",
      "    breaklines=true,                 \n",
      "    showstringspaces=false,         \n",
      "    showtabs=false,                 \n",
      "}\n",
      "\n",
      "\\begin{document}\n",
      "\n",
      "\\begin{lstlisting}[style=pythonstyle]\n",
      "Based on your watched and rated movies, it seems like you enjoy action-packed films with strong female leads. Deep Rising (1998) is an action movie with a female lead, which you have watched and rated highly. Given your interest in this genre, we think you might also enjoy The Commitments, The (1991), a comedy film that explores themes of identity and community. Although it's a different genre, the film's focus on character development and relationships might appeal to you. Plus, it's a classic film that has stood the test of time, and we think you might appreciate its nostalgic value.\n",
      "\\end{lstlisting}\n",
      "\n",
      "\\end{document}%\n",
      "\n",
      "% Output:\n",
      "\n"
     ]
    }
   ],
   "execution_count": 12
  }
 ],
 "metadata": {
  "kernelspec": {
   "display_name": "Python 3",
   "language": "python",
   "name": "python3"
  },
  "language_info": {
   "codemirror_mode": {
    "name": "ipython",
    "version": 2
   },
   "file_extension": ".py",
   "mimetype": "text/x-python",
   "name": "python",
   "nbconvert_exporter": "python",
   "pygments_lexer": "ipython2",
   "version": "2.7.6"
  }
 },
 "nbformat": 4,
 "nbformat_minor": 5
}
