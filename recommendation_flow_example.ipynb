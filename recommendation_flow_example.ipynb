{
 "cells": [
  {
   "cell_type": "markdown",
   "id": "9300ee3283e97d08",
   "metadata": {},
   "source": [
    "# Recommendation Flow Example"
   ]
  },
  {
   "cell_type": "markdown",
   "id": "3dc98f84e17b00c5",
   "metadata": {},
   "source": [
    "## Step 1: Loading Data"
   ]
  },
  {
   "cell_type": "code",
   "execution_count": 1,
   "id": "initial_id",
   "metadata": {
    "ExecuteTime": {
     "end_time": "2024-08-17T08:53:26.563112Z",
     "start_time": "2024-08-17T08:53:22.846027Z"
    },
    "collapsed": true
   },
   "outputs": [],
   "source": [
    "from models.csv_loader import CSVLoader\n",
    "from models.products.product_registry import ProductRegistry\n",
    "from models.products.product_mapping_row import ProductMappingRow\n",
    "from models.products.product_row import ProductRow\n",
    "\n",
    "product_registry = ProductRegistry(CSVLoader(ProductRow).read(), CSVLoader(ProductMappingRow).read())"
   ]
  },
  {
   "cell_type": "code",
   "execution_count": 2,
   "id": "11c72cada2c13827",
   "metadata": {
    "ExecuteTime": {
     "end_time": "2024-08-17T08:53:44.127739Z",
     "start_time": "2024-08-17T08:53:43.873476Z"
    }
   },
   "outputs": [],
   "source": [
    "from models.users.user_registry import UserRegistry\n",
    "from models.users.user_mapping_row import UserMappingRow\n",
    "from models.users.user_row import UserRow\n",
    "\n",
    "user_registry = UserRegistry(CSVLoader(UserRow).read(), CSVLoader(UserMappingRow).read())"
   ]
  },
  {
   "cell_type": "code",
   "execution_count": 3,
   "id": "29a930399be8465a",
   "metadata": {
    "ExecuteTime": {
     "end_time": "2024-08-17T08:53:54.284452Z",
     "start_time": "2024-08-17T08:53:46.186615Z"
    }
   },
   "outputs": [],
   "source": [
    "from models.ratings.rating_registry import RatingRegistry\n",
    "from models.ratings.rating_row import RatingRow\n",
    "\n",
    "rating_registry = RatingRegistry(CSVLoader(RatingRow).read(), user_registry, product_registry)"
   ]
  },
  {
   "cell_type": "markdown",
   "id": "428448456d22802",
   "metadata": {},
   "source": [
    "## Step 2: Recommendation"
   ]
  },
  {
   "cell_type": "code",
   "execution_count": 4,
   "id": "aca3519750e7a31d",
   "metadata": {
    "ExecuteTime": {
     "end_time": "2024-08-17T08:53:56.394801Z",
     "start_time": "2024-08-17T08:53:56.258747Z"
    }
   },
   "outputs": [
    {
     "name": "stdout",
     "output_type": "stream",
     "text": [
      "rules [{'user': ['25-34'], 'product': ['Comedy']}, {'user': [], 'product': ['Crime']}, {'user': ['F'], 'product': []}, {'user': ['25-34'], 'product': ['Action']}, {'user': ['45-49'], 'product': []}, {'user': ['18-24'], 'product': ['Drama']}, {'user': [], 'product': ['Horror']}, {'user': ['25-34', 'F'], 'product': []}, {'user': [], 'product': ['Adventure']}, {'user': ['M'], 'product': ['Drama']}]\n"
     ]
    }
   ],
   "source": [
    "from recommendation.recommenders.random_recommender import RandomRecommender\n",
    "from recommendation.recommenders.ilp_recommender import ILPRecommender\n",
    "\n",
    "#recommender = RandomRecommender(product_registry, user_registry, rating_registry)\n",
    "recommender = ILPRecommender(product_registry, user_registry, rating_registry)"
   ]
  },
  {
   "cell_type": "code",
   "execution_count": 5,
   "id": "713f18a1f0f8594f",
   "metadata": {
    "ExecuteTime": {
     "end_time": "2024-08-17T08:53:59.077223Z",
     "start_time": "2024-08-17T08:53:59.046825Z"
    }
   },
   "outputs": [
    {
     "data": {
      "text/plain": [
       "Rating(user=User(eid=-1, uid=6041, gender='F', age='18-24'), product=Product(eid=616, pid=1762, name='Deep Rising (1998)', genre='Action'), rating=3, timestamp=1725457045)"
      ]
     },
     "execution_count": 5,
     "metadata": {},
     "output_type": "execute_result"
    }
   ],
   "source": [
    "from models.ratings.rating import Rating\n",
    "from models.users.user import User\n",
    "import time\n",
    "\n",
    "target_user = user_registry.add_user(User(eid=0, uid=0, gender=\"F\", age=\"18-24\"))\n",
    "\n",
    "movie1 = product_registry.find_by_pid(pid=2346) # Fish Called Wanda, A (1988)\n",
    "movie2 = product_registry.find_by_pid(pid=1762) # Fast Times at Ridgemont High (1982)\n",
    "\n",
    "rating_registry.add_rating(Rating(target_user, movie1, 4, int(time.time())))\n",
    "rating_registry.add_rating(Rating(target_user, movie2, 3, int(time.time())))"
   ]
  },
  {
   "cell_type": "code",
   "execution_count": 6,
   "id": "b828407393479e43",
   "metadata": {
    "ExecuteTime": {
     "end_time": "2024-08-17T08:54:33.832180Z",
     "start_time": "2024-08-17T08:54:01.531533Z"
    }
   },
   "outputs": [
    {
     "data": {
      "text/plain": [
       "[RecoPath(nodes=[RecoNode(type='user', entity_id=-1), RecoNode(type='product', entity_id=23)], rels=[RecoRel(in_node=RecoNode(type='product', entity_id=23), relation='Adventure', out_node=RecoNode(type='product', entity_id=23))])]"
      ]
     },
     "execution_count": 6,
     "metadata": {},
     "output_type": "execute_result"
    }
   ],
   "source": [
    "recommendation_paths = recommender.recommend(target_user)\n",
    "recommendation_paths"
   ]
  },
  {
   "cell_type": "markdown",
   "id": "817201f512927610",
   "metadata": {},
   "source": [
    "## Step 3: Explanation"
   ]
  },
  {
   "cell_type": "code",
   "execution_count": 7,
   "id": "ac7ebb150568d1ff",
   "metadata": {
    "ExecuteTime": {
     "end_time": "2024-08-17T09:00:50.133837Z",
     "start_time": "2024-08-17T09:00:47.764981Z"
    }
   },
   "outputs": [],
   "source": [
    "from recommendation.explainers.llm_explainer import LLMExplainer\n",
    "\n",
    "# repo_id = \"mistralai/Mixtral-8x7B-Instruct-v0.1\"\n",
    "repo_id = \"meta-llama/Meta-Llama-3-8B-Instruct\"\n",
    "# repo_id = \"google/gemma-7b\"\n",
    "# repo_id = \"mistralai/Mistral-7B-Instruct-v0.2\"\n",
    "\n",
    "explainer = LLMExplainer(product_registry, user_registry, rating_registry, repo_id)"
   ]
  },
  {
   "cell_type": "code",
   "execution_count": 8,
   "id": "db5ed69b0f9d302d",
   "metadata": {
    "ExecuteTime": {
     "end_time": "2024-08-17T09:02:23.685256Z",
     "start_time": "2024-08-17T09:02:23.565944Z"
    }
   },
   "outputs": [
    {
     "ename": "AttributeError",
     "evalue": "'LLMExplainer' object has no attribute 'generate_facts'",
     "output_type": "error",
     "traceback": [
      "\u001b[0;31m---------------------------------------------------------------------------\u001b[0m",
      "\u001b[0;31mAttributeError\u001b[0m                            Traceback (most recent call last)",
      "Cell \u001b[0;32mIn[8], line 1\u001b[0m\n\u001b[0;32m----> 1\u001b[0m facts \u001b[38;5;241m=\u001b[39m \u001b[43mexplainer\u001b[49m\u001b[38;5;241;43m.\u001b[39;49m\u001b[43mgenerate_facts\u001b[49m(recommendation_paths[\u001b[38;5;241m0\u001b[39m])\n\u001b[1;32m      2\u001b[0m \u001b[38;5;28mprint\u001b[39m(facts)\n",
      "\u001b[0;31mAttributeError\u001b[0m: 'LLMExplainer' object has no attribute 'generate_facts'"
     ]
    }
   ],
   "source": [
    "facts = explainer.generate_facts(recommendation_paths[0])\n",
    "print(facts)"
   ]
  },
  {
   "cell_type": "code",
   "execution_count": 9,
   "id": "7a3920eaae28ebd5",
   "metadata": {
    "ExecuteTime": {
     "end_time": "2024-08-17T09:02:38.404758Z",
     "start_time": "2024-08-17T09:02:38.165843Z"
    }
   },
   "outputs": [
    {
     "ename": "StopIteration",
     "evalue": "",
     "output_type": "error",
     "traceback": [
      "\u001b[0;31m---------------------------------------------------------------------------\u001b[0m",
      "\u001b[0;31mStopIteration\u001b[0m                             Traceback (most recent call last)",
      "Cell \u001b[0;32mIn[9], line 1\u001b[0m\n\u001b[0;32m----> 1\u001b[0m explanation \u001b[38;5;241m=\u001b[39m \u001b[43mexplainer\u001b[49m\u001b[38;5;241;43m.\u001b[39;49m\u001b[43mexplain\u001b[49m\u001b[43m(\u001b[49m\u001b[43mrecommendation_paths\u001b[49m\u001b[43m[\u001b[49m\u001b[38;5;241;43m0\u001b[39;49m\u001b[43m]\u001b[49m\u001b[43m)\u001b[49m\n\u001b[1;32m      2\u001b[0m \u001b[38;5;28mprint\u001b[39m(explanation)\n",
      "File \u001b[0;32m~/UCL/Doctorat/3e/WorkshopLisbonne/TRAIL24/recommendation/explainers/llm_explainer.py:28\u001b[0m, in \u001b[0;36mLLMExplainer.explain\u001b[0;34m(self, path, filter_facts)\u001b[0m\n\u001b[1;32m     27\u001b[0m \u001b[38;5;28;01mdef\u001b[39;00m \u001b[38;5;21mexplain\u001b[39m(\u001b[38;5;28mself\u001b[39m, path: RecoPath, filter_facts: Optional[List[\u001b[38;5;28mstr\u001b[39m]]\u001b[38;5;241m=\u001b[39m\u001b[38;5;28;01mNone\u001b[39;00m) \u001b[38;5;241m-\u001b[39m\u001b[38;5;241m>\u001b[39m \u001b[38;5;28mtuple\u001b[39m[\u001b[38;5;28mstr\u001b[39m, LLMTrace]:\n\u001b[0;32m---> 28\u001b[0m     bk, product, user \u001b[38;5;241m=\u001b[39m \u001b[38;5;28;43mself\u001b[39;49m\u001b[38;5;241;43m.\u001b[39;49m\u001b[43m_prepare_input\u001b[49m\u001b[43m(\u001b[49m\u001b[43mpath\u001b[49m\u001b[43m,\u001b[49m\u001b[43m \u001b[49m\u001b[43mfilter_facts\u001b[49m\u001b[43m)\u001b[49m\n\u001b[1;32m     29\u001b[0m     trace_handler \u001b[38;5;241m=\u001b[39m LLMTrace()\n\u001b[1;32m     30\u001b[0m     completion \u001b[38;5;241m=\u001b[39m \u001b[38;5;28mself\u001b[39m\u001b[38;5;241m.\u001b[39m__llm_chain\u001b[38;5;241m.\u001b[39minvoke({\n\u001b[1;32m     31\u001b[0m         \u001b[38;5;124m\"\u001b[39m\u001b[38;5;124mbackground_knowledge\u001b[39m\u001b[38;5;124m\"\u001b[39m: bk,\n\u001b[1;32m     32\u001b[0m         \u001b[38;5;124m\"\u001b[39m\u001b[38;5;124muser\u001b[39m\u001b[38;5;124m\"\u001b[39m: \u001b[38;5;28mstr\u001b[39m(user),\n\u001b[1;32m     33\u001b[0m         \u001b[38;5;124m\"\u001b[39m\u001b[38;5;124mproduct\u001b[39m\u001b[38;5;124m\"\u001b[39m: \u001b[38;5;28mstr\u001b[39m(product)\n\u001b[1;32m     34\u001b[0m     }, config\u001b[38;5;241m=\u001b[39m{\u001b[38;5;124m\"\u001b[39m\u001b[38;5;124mcallbacks\u001b[39m\u001b[38;5;124m\"\u001b[39m: [trace_handler]})\n",
      "File \u001b[0;32m~/UCL/Doctorat/3e/WorkshopLisbonne/TRAIL24/recommendation/explainers/abstract_explainer.py:53\u001b[0m, in \u001b[0;36mAbstractExplainer._prepare_input\u001b[0;34m(self, path, filter_facts)\u001b[0m\n\u001b[1;32m     52\u001b[0m \u001b[38;5;28;01mdef\u001b[39;00m \u001b[38;5;21m_prepare_input\u001b[39m(\u001b[38;5;28mself\u001b[39m, path, filter_facts:Optional[List[\u001b[38;5;28mstr\u001b[39m]]\u001b[38;5;241m=\u001b[39m\u001b[38;5;28;01mNone\u001b[39;00m):\n\u001b[0;32m---> 53\u001b[0m     facts \u001b[38;5;241m=\u001b[39m \u001b[38;5;28;43mself\u001b[39;49m\u001b[38;5;241;43m.\u001b[39;49m\u001b[43mcollect_facts\u001b[49m\u001b[43m(\u001b[49m\u001b[43mpath\u001b[49m\u001b[43m)\u001b[49m\n\u001b[1;32m     54\u001b[0m     \u001b[38;5;28;01mif\u001b[39;00m filter_facts:\n\u001b[1;32m     55\u001b[0m         facts \u001b[38;5;241m=\u001b[39m [f \u001b[38;5;28;01mfor\u001b[39;00m f \u001b[38;5;129;01min\u001b[39;00m facts \u001b[38;5;28;01mif\u001b[39;00m f\u001b[38;5;241m.\u001b[39mpredicate \u001b[38;5;129;01mnot\u001b[39;00m \u001b[38;5;129;01min\u001b[39;00m filter_facts]\n",
      "File \u001b[0;32m~/UCL/Doctorat/3e/WorkshopLisbonne/TRAIL24/recommendation/explainers/abstract_explainer.py:41\u001b[0m, in \u001b[0;36mAbstractExplainer.collect_facts\u001b[0;34m(self, path)\u001b[0m\n\u001b[1;32m     39\u001b[0m     user \u001b[38;5;241m=\u001b[39m \u001b[38;5;28mself\u001b[39m\u001b[38;5;241m.\u001b[39muser_registry\u001b[38;5;241m.\u001b[39mfind_by_eid(rel\u001b[38;5;241m.\u001b[39min_node\u001b[38;5;241m.\u001b[39mentity_id)\n\u001b[1;32m     40\u001b[0m     product \u001b[38;5;241m=\u001b[39m \u001b[38;5;28mself\u001b[39m\u001b[38;5;241m.\u001b[39mproduct_registry\u001b[38;5;241m.\u001b[39mfind_by_eid(rel\u001b[38;5;241m.\u001b[39mout_node\u001b[38;5;241m.\u001b[39mentity_id)\n\u001b[0;32m---> 41\u001b[0m     rating \u001b[38;5;241m=\u001b[39m \u001b[38;5;28;43mself\u001b[39;49m\u001b[38;5;241;43m.\u001b[39;49m\u001b[43mrating_registry\u001b[49m\u001b[38;5;241;43m.\u001b[39;49m\u001b[43mfind_user_product_rating\u001b[49m\u001b[43m(\u001b[49m\u001b[43muser\u001b[49m\u001b[38;5;241;43m.\u001b[39;49m\u001b[43muid\u001b[49m\u001b[43m,\u001b[49m\u001b[43m \u001b[49m\u001b[43mproduct\u001b[49m\u001b[38;5;241;43m.\u001b[39;49m\u001b[43mpid\u001b[49m\u001b[43m)\u001b[49m\n\u001b[1;32m     42\u001b[0m     facts\u001b[38;5;241m.\u001b[39mextend(rating\u001b[38;5;241m.\u001b[39mfacts())\n\u001b[1;32m     43\u001b[0m \u001b[38;5;28;01mfor\u001b[39;00m node \u001b[38;5;129;01min\u001b[39;00m path\u001b[38;5;241m.\u001b[39mnodes:\n",
      "File \u001b[0;32m~/UCL/Doctorat/3e/WorkshopLisbonne/TRAIL24/models/ratings/rating_registry.py:28\u001b[0m, in \u001b[0;36mRatingRegistry.find_user_product_rating\u001b[0;34m(self, user_id, product_id)\u001b[0m\n\u001b[1;32m     27\u001b[0m \u001b[38;5;28;01mdef\u001b[39;00m \u001b[38;5;21mfind_user_product_rating\u001b[39m(\u001b[38;5;28mself\u001b[39m, user_id: \u001b[38;5;28mint\u001b[39m, product_id: \u001b[38;5;28mint\u001b[39m) \u001b[38;5;241m-\u001b[39m\u001b[38;5;241m>\u001b[39m Rating:\n\u001b[0;32m---> 28\u001b[0m     \u001b[38;5;28;01mreturn\u001b[39;00m \u001b[38;5;28;43mnext\u001b[39;49m\u001b[43m(\u001b[49m\u001b[43mrating\u001b[49m\u001b[43m \u001b[49m\u001b[38;5;28;43;01mfor\u001b[39;49;00m\u001b[43m \u001b[49m\u001b[43mrating\u001b[49m\u001b[43m \u001b[49m\u001b[38;5;129;43;01min\u001b[39;49;00m\u001b[43m \u001b[49m\u001b[38;5;28;43mself\u001b[39;49m\u001b[38;5;241;43m.\u001b[39;49m\u001b[43m__product_rating_dict\u001b[49m\u001b[43m[\u001b[49m\u001b[43mproduct_id\u001b[49m\u001b[43m]\u001b[49m\u001b[43m \u001b[49m\u001b[38;5;28;43;01mif\u001b[39;49;00m\u001b[43m \u001b[49m\u001b[43mrating\u001b[49m\u001b[38;5;241;43m.\u001b[39;49m\u001b[43muser\u001b[49m\u001b[38;5;241;43m.\u001b[39;49m\u001b[43muid\u001b[49m\u001b[43m \u001b[49m\u001b[38;5;241;43m==\u001b[39;49m\u001b[43m \u001b[49m\u001b[43muser_id\u001b[49m\u001b[43m)\u001b[49m\n",
      "\u001b[0;31mStopIteration\u001b[0m: "
     ]
    }
   ],
   "source": [
    "explanation = explainer.explain(recommendation_paths[0])\n",
    "print(explanation)"
   ]
  }
 ],
 "metadata": {
  "kernelspec": {
   "display_name": "Python 3",
   "language": "python",
   "name": "python3"
  },
  "language_info": {
   "codemirror_mode": {
    "name": "ipython",
    "version": 3
   },
   "file_extension": ".py",
   "mimetype": "text/x-python",
   "name": "python",
   "nbconvert_exporter": "python",
   "pygments_lexer": "ipython3",
   "version": "3.10.14"
  }
 },
 "nbformat": 4,
 "nbformat_minor": 5
}
