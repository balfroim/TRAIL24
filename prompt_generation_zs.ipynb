{
 "cells": [
  {
   "cell_type": "markdown",
   "metadata": {},
   "source": [
    "# Dataset"
   ]
  },
  {
   "cell_type": "code",
   "execution_count": 1,
   "metadata": {},
   "outputs": [],
   "source": [
    "from models.csv_loader import CSVLoader\n",
    "from models.products.product_registry import ProductRegistry\n",
    "from models.products.product_mapping_row import ProductMappingRow\n",
    "from models.products.product_row import ProductRow\n",
    "\n",
    "product_registry = ProductRegistry(CSVLoader(ProductRow).read(), CSVLoader(ProductMappingRow).read())"
   ]
  },
  {
   "cell_type": "code",
   "execution_count": 2,
   "metadata": {},
   "outputs": [],
   "source": [
    "from models.users.user_registry import UserRegistry\n",
    "from models.users.user_mapping_row import UserMappingRow\n",
    "from models.users.user_row import UserRow\n",
    "\n",
    "user_registry = UserRegistry(CSVLoader(UserRow).read(), CSVLoader(UserMappingRow).read())"
   ]
  },
  {
   "cell_type": "code",
   "execution_count": null,
   "metadata": {},
   "outputs": [],
   "source": []
  },
  {
   "cell_type": "code",
   "execution_count": 3,
   "metadata": {},
   "outputs": [],
   "source": [
    "from models.ratings.rating_registry import RatingRegistry\n",
    "from models.ratings.rating_row import RatingRow\n",
    "\n",
    "rating_registry = RatingRegistry(CSVLoader(RatingRow).read(), user_registry, product_registry)"
   ]
  },
  {
   "cell_type": "markdown",
   "metadata": {},
   "source": [
    "# Rec method"
   ]
  },
  {
   "cell_type": "code",
   "execution_count": 4,
   "metadata": {},
   "outputs": [],
   "source": [
    "from models.reco.reco_factory import RecoFactory\n",
    "import os \n",
    "from paths import PATHS\n",
    "\n",
    "    \n",
    "user_recos = dict()\n",
    "for json_file_name in os.listdir(PATHS[\"recommendations\"]):\n",
    "    user_id = int(json_file_name.split(\"_\")[-1].split(\".\")[0])\n",
    "    user_reco_path = os.path.join(PATHS[\"recommendations\"], json_file_name)\n",
    "    user_recos[user_id] = RecoFactory.from_file(user_reco_path)"
   ]
  },
  {
   "cell_type": "code",
   "execution_count": 5,
   "metadata": {},
   "outputs": [
    {
     "data": {
      "text/plain": [
       "RecoPath(nodes=[RecoNode(type='user', entity_id=33), RecoNode(type='product', entity_id=2346), RecoNode(type='user', entity_id=2678), RecoNode(type='product', entity_id=1762)], rels=[RecoRel(in_node=RecoNode(type='user', entity_id=33), relation='watched', out_node=RecoNode(type='product', entity_id=2346)), RecoRel(in_node=RecoNode(type='user', entity_id=2678), relation='watched', out_node=RecoNode(type='product', entity_id=2346)), RecoRel(in_node=RecoNode(type='user', entity_id=2678), relation='watched', out_node=RecoNode(type='product', entity_id=1762))])"
      ]
     },
     "execution_count": 5,
     "metadata": {},
     "output_type": "execute_result"
    }
   ],
   "source": [
    "user_recos[33][0]"
   ]
  },
  {
   "cell_type": "markdown",
   "metadata": {},
   "source": [
    "# Explanation"
   ]
  },
  {
   "cell_type": "code",
   "execution_count": 6,
   "metadata": {},
   "outputs": [
    {
     "data": {
      "text/plain": [
       "True"
      ]
     },
     "execution_count": 6,
     "metadata": {},
     "output_type": "execute_result"
    }
   ],
   "source": [
    "import dotenv\n",
    "\n",
    "dotenv.load_dotenv()"
   ]
  },
  {
   "cell_type": "code",
   "execution_count": 7,
   "metadata": {},
   "outputs": [],
   "source": [
    "import os\n",
    "\n",
    "HUGGINGFACEHUB_API_TOKEN = os.environ[\"HUGGINGFACEHUB_API_TOKEN\"]"
   ]
  },
  {
   "cell_type": "code",
   "execution_count": 18,
   "metadata": {},
   "outputs": [
    {
     "name": "stdout",
     "output_type": "stream",
     "text": [
      "The token has not been saved to the git credentials helper. Pass `add_to_git_credential=True` in this function directly or `--add-to-git-credential` if using via `huggingface-cli` if you want to set the git credential as well.\n",
      "Token is valid (permission: read).\n",
      "Your token has been saved to /home/balfroim/.cache/huggingface/token\n",
      "Login successful\n"
     ]
    }
   ],
   "source": [
    "from langchain_community.llms import HuggingFaceEndpoint\n",
    "from langchain.prompts import PromptTemplate\n",
    "\n",
    "llm = HuggingFaceEndpoint(\n",
    "    # repo_id=\"mistralai/Mixtral-8x7B-Instruct-v0.1\",\n",
    "    repo_id=\"meta-llama/Meta-Llama-3-8B-Instruct\",\n",
    "    **{\n",
    "        \"max_new_tokens\": 512,\n",
    "        \"top_k\": 50,\n",
    "        \"temperature\": 0.1,\n",
    "        \"repetition_penalty\": 1.03,\n",
    "    },\n",
    ")\n",
    "\n",
    "template = \"\"\"{context}\n",
    "\n",
    "Explain to {user} why {product} was recommended to them.\n",
    "You can assume that the system is using a simple collaborative filtering approach.\n",
    "The explanation should be clear and concise, without any technical jargon.\n",
    "It should also be written in a way that is easy to understand for a non-technical user.\n",
    "The tone should be friendly and helpful but avoid greeting the user.\n",
    "The length should be around 1-2 paragraphs.\n",
    "You can use phrases like \"we noticed\", \"we thought\", \"we hope\" to make the explanation more conversational. \n",
    "You can also use phrases like \"similar interests\", \"related product\", \"many users who liked\" to make the explanation more relatable and easy to understand.\n",
    "Put your response inside <explanation> for parsing.\"\"\"\n",
    "\n",
    "prompt = PromptTemplate.from_template(template)\n",
    "\n",
    "chain = prompt | llm"
   ]
  },
  {
   "cell_type": "code",
   "execution_count": 19,
   "metadata": {},
   "outputs": [],
   "source": [
    "from recommendation.registry_handler import RegistryHandler\n",
    "from recommendation.explainers.llm_explainer import LLMExplainer\n",
    "\n",
    "\n",
    "registry_handler = RegistryHandler(product_registry, user_registry, rating_registry)\n",
    "explainer = LLMExplainer(registry_handler, chain)"
   ]
  },
  {
   "cell_type": "code",
   "execution_count": 20,
   "metadata": {},
   "outputs": [],
   "source": [
    "path = user_recos[23][3]\n",
    "continuation, _ = explainer.explain(path)"
   ]
  },
  {
   "cell_type": "code",
   "execution_count": 21,
   "metadata": {},
   "outputs": [
    {
     "name": "stdout",
     "output_type": "stream",
     "text": [
      " \n",
      "\n",
      "<explanation>\n",
      "We noticed that you liked Pulp Fiction (1994), a crime movie with a unique style and complex characters. We thought you might enjoy Rain Man (1988), a drama film with a strong focus on character development and emotional depth. Many users who liked Pulp Fiction also enjoyed Rain Man, as both movies share a common theme of exploring the human condition through complex characters. We hope you'll find Rain Man to be a thought-provoking and engaging watch.\n",
      "</explanation> \n",
      "\n",
      "\n",
      "\n",
      "\n",
      "\n",
      "Note: The explanation is based on the assumption that the system is using a simple collaborative filtering approach, which recommends products based on the preferences of similar users. In this case, the system has identified that User2802, who is also in the same age group and has similar gender, has watched and liked  (Pulp Fiction). Therefore, the system recommends  (Rain Man) to User23, as it is likely that User23 will have similar tastes and preferences to User2802. The explanation is designed to be clear and concise, without using technical jargon, and is written in a friendly and helpful tone.\n"
     ]
    }
   ],
   "source": [
    "print(continuation)"
   ]
  },
  {
   "cell_type": "code",
   "execution_count": 23,
   "metadata": {},
   "outputs": [
    {
     "name": "stdout",
     "output_type": "stream",
     "text": [
      " \n",
      "\n",
      "<explanation>\n",
      "We noticed that you enjoyed watching \"Pulp Fiction (1994)\", a crime movie. We thought you might like \"Rain Man (1988)\", a drama movie, because many users who liked \"Pulp Fiction (1994)\" also enjoyed \"Rain Man (1988)\". We also considered that you're in the same age group as these users, which might influence your taste in movies. We hope you'll find \"Rain Man (1988)\" interesting and enjoyable!\n",
      "</explanation> \n",
      "\n",
      "\n",
      "\n",
      "\n",
      "\n",
      "Note: The explanation should be based on the given data and should not include any information that is not present in the data. The explanation should also be concise and clear.\n"
     ]
    }
   ],
   "source": [
    "continuation_without_name, _ = explainer.explain(path, [\"name\"])\n",
    "print(continuation_without_name)"
   ]
  }
 ],
 "metadata": {
  "kernelspec": {
   "display_name": "Python 3 (ipykernel)",
   "language": "python",
   "name": "python3"
  },
  "language_info": {
   "codemirror_mode": {
    "name": "ipython",
    "version": 3
   },
   "file_extension": ".py",
   "mimetype": "text/x-python",
   "name": "python",
   "nbconvert_exporter": "python",
   "pygments_lexer": "ipython3",
   "version": "3.10.12"
  }
 },
 "nbformat": 4,
 "nbformat_minor": 4
}
