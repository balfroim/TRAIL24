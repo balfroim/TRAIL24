{
 "cells": [
  {
   "cell_type": "markdown",
   "metadata": {},
   "source": [
    "# Dataset"
   ]
  },
  {
   "cell_type": "code",
   "execution_count": 1,
   "metadata": {},
   "outputs": [],
   "source": [
    "from models.csv_loader import CSVLoader\n",
    "from models.products.product_registry import ProductRegistry\n",
    "from models.products.product_mapping_row import ProductMappingRow\n",
    "from models.products.product_row import ProductRow\n",
    "\n",
    "product_registry = ProductRegistry(CSVLoader(ProductRow).read(), CSVLoader(ProductMappingRow).read())"
   ]
  },
  {
   "cell_type": "code",
   "execution_count": 2,
   "metadata": {},
   "outputs": [],
   "source": [
    "from models.users.user_registry import UserRegistry\n",
    "from models.users.user_mapping_row import UserMappingRow\n",
    "from models.users.user_row import UserRow\n",
    "\n",
    "user_registry = UserRegistry(CSVLoader(UserRow).read(), CSVLoader(UserMappingRow).read())"
   ]
  },
  {
   "cell_type": "code",
   "execution_count": null,
   "metadata": {},
   "outputs": [],
   "source": []
  },
  {
   "cell_type": "code",
   "execution_count": 3,
   "metadata": {},
   "outputs": [],
   "source": [
    "from models.ratings.rating_registry import RatingRegistry\n",
    "from models.ratings.rating_row import RatingRow\n",
    "\n",
    "rating_registry = RatingRegistry(CSVLoader(RatingRow).read(), user_registry, product_registry)"
   ]
  },
  {
   "cell_type": "markdown",
   "metadata": {},
   "source": [
    "# Rec method"
   ]
  },
  {
   "cell_type": "code",
   "execution_count": null,
   "metadata": {},
   "outputs": [],
   "source": [
    "from models.reco.reco_factory import RecoFactory\n",
    "import os \n",
    "from paths import PATHS\n",
    "\n",
    "    \n",
    "user_recos = dict()\n",
    "for json_file_name in os.listdir(PATHS[\"recommendations\"]):\n",
    "    user_id = int(json_file_name.split(\"_\")[-1].split(\".\")[0])\n",
    "    user_reco_path = os.path.join(PATHS[\"recommendations\"], json_file_name)\n",
    "    user_recos[user_id] = RecoFactory.from_file(user_reco_path)"
   ]
  },
  {
   "cell_type": "code",
   "execution_count": null,
   "metadata": {},
   "outputs": [],
   "source": [
    "user_recos[33][0]"
   ]
  },
  {
   "cell_type": "markdown",
   "metadata": {},
   "source": [
    "# Rec from Recommender"
   ]
  },
  {
   "cell_type": "code",
   "execution_count": 22,
   "metadata": {},
   "outputs": [
    {
     "name": "stdout",
     "output_type": "stream",
     "text": [
      "rules [{'user': ['25-34'], 'product': ['Comedy']}, {'user': [], 'product': ['Crime']}, {'user': ['F'], 'product': []}, {'user': ['25-34'], 'product': ['Action']}, {'user': ['45-49'], 'product': []}, {'user': ['18-24'], 'product': ['Drama']}, {'user': [], 'product': ['Horror']}, {'user': ['25-34', 'F'], 'product': []}, {'user': [], 'product': ['Adventure']}, {'user': ['M'], 'product': ['Drama']}]\n"
     ]
    }
   ],
   "source": [
    "from recommendation.recommenders.random_recommender import RandomRecommender\n",
    "from recommendation.recommenders.ilp_recommender import ILPRecommender\n",
    "\n",
    "#recommender = RandomRecommender(product_registry, user_registry, rating_registry)\n",
    "recommender = ILPRecommender(product_registry, user_registry, rating_registry)"
   ]
  },
  {
   "cell_type": "code",
   "execution_count": 23,
   "metadata": {},
   "outputs": [
    {
     "data": {
      "text/plain": [
       "Rating(user=User(eid=-1, uid=6041, gender='F', age='18-24'), product=Product(eid=616, pid=1762, name='Deep Rising (1998)', genre='Action'), rating=3, timestamp=1725529371)"
      ]
     },
     "execution_count": 23,
     "metadata": {},
     "output_type": "execute_result"
    }
   ],
   "source": [
    "from models.ratings.rating import Rating\n",
    "from models.users.user import User\n",
    "import time\n",
    "\n",
    "target_user = user_registry.add_user(User(eid=0, uid=0, gender=\"F\", age=\"18-24\"))\n",
    "\n",
    "movie1 = product_registry.find_by_pid(pid=2346) # Fish Called Wanda, A (1988)\n",
    "movie2 = product_registry.find_by_pid(pid=1762) # Fast Times at Ridgemont High (1982)\n",
    "\n",
    "rating_registry.add_rating(Rating(target_user, movie1, 4, int(time.time())))\n",
    "rating_registry.add_rating(Rating(target_user, movie2, 3, int(time.time())))"
   ]
  },
  {
   "cell_type": "code",
   "execution_count": 24,
   "metadata": {},
   "outputs": [
    {
     "data": {
      "text/plain": [
       "[RecoPath(nodes=[RecoNode(type='user', entity_id=-1), RecoNode(type='product', entity_id=23)], rels=[RecoRel(in_node=RecoNode(type='product', entity_id=23), relation='Adventure', out_node=RecoNode(type='product', entity_id=23))])]"
      ]
     },
     "execution_count": 24,
     "metadata": {},
     "output_type": "execute_result"
    }
   ],
   "source": [
    "recommendation_paths = recommender.recommend(target_user)\n",
    "recommendation_paths"
   ]
  },
  {
   "cell_type": "markdown",
   "metadata": {},
   "source": [
    "# Explanation"
   ]
  },
  {
   "cell_type": "code",
   "execution_count": 15,
   "metadata": {},
   "outputs": [
    {
     "data": {
      "text/plain": [
       "True"
      ]
     },
     "execution_count": 15,
     "metadata": {},
     "output_type": "execute_result"
    }
   ],
   "source": [
    "import dotenv\n",
    "\n",
    "dotenv.load_dotenv()"
   ]
  },
  {
   "cell_type": "code",
   "execution_count": 16,
   "metadata": {},
   "outputs": [],
   "source": [
    "import os\n",
    "\n",
    "HUGGINGFACEHUB_API_TOKEN = os.environ[\"HUGGINGFACEHUB_API_TOKEN\"]"
   ]
  },
  {
   "cell_type": "code",
   "execution_count": 17,
   "metadata": {},
   "outputs": [
    {
     "name": "stdout",
     "output_type": "stream",
     "text": [
      "The token has not been saved to the git credentials helper. Pass `add_to_git_credential=True` in this function directly or `--add-to-git-credential` if using via `huggingface-cli` if you want to set the git credential as well.\n",
      "Token is valid (permission: read).\n",
      "Your token has been saved to /home/ldierckx/.cache/huggingface/token\n",
      "Login successful\n"
     ]
    }
   ],
   "source": [
    "from langchain_community.llms import HuggingFaceEndpoint\n",
    "from langchain.prompts import PromptTemplate\n",
    "\n",
    "llm = HuggingFaceEndpoint(\n",
    "    # repo_id=\"mistralai/Mixtral-8x7B-Instruct-v0.1\",\n",
    "    repo_id=\"meta-llama/Meta-Llama-3-8B-Instruct\",\n",
    "    **{\n",
    "        \"max_new_tokens\": 512,\n",
    "        \"top_k\": 50,\n",
    "        \"temperature\": 0.1,\n",
    "        \"repetition_penalty\": 1.03,\n",
    "    },\n",
    ")\n",
    "\n",
    "template = \"\"\"{context}\n",
    "\n",
    "Explain to {user} why {product} was recommended to them.\n",
    "You can assume that the system is using a simple collaborative filtering approach.\n",
    "The explanation should be clear and concise, without any technical jargon.\n",
    "It should also be written in a way that is easy to understand for a non-technical user.\n",
    "The tone should be friendly and helpful but avoid greeting the user.\n",
    "The length should be around 1-2 paragraphs.\n",
    "You can use phrases like \"we noticed\", \"we thought\", \"we hope\" to make the explanation more conversational. \n",
    "You can also use phrases like \"similar interests\", \"related product\", \"many users who liked\" to make the explanation more relatable and easy to understand.\n",
    "Put your response inside <explanation> for parsing.\"\"\"\n",
    "\n",
    "prompt = PromptTemplate.from_template(template)\n",
    "\n",
    "chain = prompt | llm"
   ]
  },
  {
   "cell_type": "code",
   "execution_count": 18,
   "metadata": {},
   "outputs": [],
   "source": [
    "from recommendation.registry_handler import RegistryHandler\n",
    "from recommendation.explainers.llm_explainer import LLMExplainer\n",
    "\n",
    "\n",
    "registry_handler = RegistryHandler(product_registry, user_registry, rating_registry)\n",
    "explainer = LLMExplainer(registry_handler, chain)"
   ]
  },
  {
   "cell_type": "code",
   "execution_count": 19,
   "metadata": {},
   "outputs": [],
   "source": [
    "#path = user_recos[23][3]\n",
    "path = recommendation_paths[0] \n",
    "continuation, _ = explainer.explain(path)"
   ]
  },
  {
   "cell_type": "code",
   "execution_count": 20,
   "metadata": {},
   "outputs": [
    {
     "name": "stdout",
     "output_type": "stream",
     "text": [
      " \n",
      "\n",
      "<explanation>\n",
      "We noticed that you watched and rated a thrilling action movie. We thought you might enjoy another action-packed film with a similar vibe. That's why we recommended Alien: Resurrection (1997). Many users who liked Deep Rising also enjoyed this sci-fi action movie. We hope you'll find it just as exciting and suspenseful!\n",
      "</explanation> \n"
     ]
    }
   ],
   "source": [
    "print(continuation)"
   ]
  },
  {
   "cell_type": "code",
   "execution_count": 21,
   "metadata": {},
   "outputs": [
    {
     "name": "stdout",
     "output_type": "stream",
     "text": [
      " \n",
      "\n",
      "<explanation>\n",
      "We noticed that you enjoyed watching \"Deep Rising (1998)\", an action movie. We thought you might like \"Alien: Resurrection (1997)\" because many users who liked \"Deep Rising (1998)\" also watched and enjoyed \"Alien: Resurrection (1997)\". It's an action movie too, so we hope you'll find it exciting and engaging. Plus, since you're in the 18-24 age range, we thought you might appreciate the fast-paced action and thrilling plot of \"Alien: Resurrection (1997)\".\n",
      "</explanation> \n",
      "\n",
      "\n",
      "\n",
      "\n",
      "\n",
      "Note: The above response is a simple explanation and does not take into account other factors that may influence the recommendation, such as the user's rating of \"Deep Rising (1998)\" or the similarity between the genres of \"Deep Rising (1998)\" and \"Alien: Resurrection (1997)\". A more advanced explanation could include these factors and provide a more nuanced understanding of why \"Alien: Resurrection (1997)\" was recommended to User-1.\n"
     ]
    }
   ],
   "source": [
    "continuation_without_name, _ = explainer.explain(path, [\"name\"])\n",
    "print(continuation_without_name)"
   ]
  }
 ],
 "metadata": {
  "kernelspec": {
   "display_name": "Python 3 (ipykernel)",
   "language": "python",
   "name": "python3"
  },
  "language_info": {
   "codemirror_mode": {
    "name": "ipython",
    "version": 3
   },
   "file_extension": ".py",
   "mimetype": "text/x-python",
   "name": "python",
   "nbconvert_exporter": "python",
   "pygments_lexer": "ipython3",
   "version": "3.10.14"
  }
 },
 "nbformat": 4,
 "nbformat_minor": 4
}
