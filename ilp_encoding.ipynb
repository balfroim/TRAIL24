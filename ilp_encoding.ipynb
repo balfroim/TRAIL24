{
 "cells": [
  {
   "cell_type": "markdown",
   "metadata": {},
   "source": [
    "# Dataset"
   ]
  },
  {
   "cell_type": "code",
   "execution_count": 2,
   "metadata": {},
   "outputs": [],
   "source": [
    "from models.csv_loader import CSVLoader\n",
    "from models.products.product_registry import ProductRegistry\n",
    "from models.products.product_mapping_row import ProductMappingRow\n",
    "from models.products.product_row import ProductRow\n",
    "\n",
    "product_registry = ProductRegistry(CSVLoader(ProductRow).read(), CSVLoader(ProductMappingRow).read())"
   ]
  },
  {
   "cell_type": "code",
   "execution_count": 3,
   "metadata": {},
   "outputs": [],
   "source": [
    "from models.users.user_registry import UserRegistry\n",
    "from models.users.user_mapping_row import UserMappingRow\n",
    "from models.users.user_row import UserRow\n",
    "\n",
    "user_registry = UserRegistry(CSVLoader(UserRow).read(), CSVLoader(UserMappingRow).read())"
   ]
  },
  {
   "cell_type": "code",
   "execution_count": 4,
   "metadata": {},
   "outputs": [],
   "source": [
    "from models.ratings.rating_registry import RatingRegistry\n",
    "from models.ratings.rating_row import RatingRow\n",
    "\n",
    "rating_registry = RatingRegistry(CSVLoader(RatingRow).read(), user_registry, product_registry)"
   ]
  },
  {
   "cell_type": "markdown",
   "metadata": {},
   "source": [
    "# Tranform Data to Logic Programs"
   ]
  },
  {
   "cell_type": "code",
   "execution_count": 18,
   "metadata": {},
   "outputs": [
    {
     "name": "stdout",
     "output_type": "stream",
     "text": [
      "Progol logic program saved as ./movie_rec.pl\n"
     ]
    }
   ],
   "source": [
    "def generate_progol_program(user_registry, product_registry, rating_registry, output_file_name):\n",
    "    \n",
    "    # Mode declarations\n",
    "    modeh = f\"modeh(*, recommend(+user, -m_name)).\\n\"\n",
    "    features = [\"gender\", \"age\", \"m_gender\", \"m_name\", \"watched\"]\n",
    "    input_features = [[\"user\", \"value\"], [\"user\", \"value\"], [\"movie\", \"value\"], [\"movie\", \"value\"], [\"user\", \"movie\"]]\n",
    "    age_dic = {\"Under 18\": \"under18\", \"56+\": \"plus56\", \"25-34\": \"b25to34\", \"45-49\": \"b45to49\", \"50-55\": \"b50to55\", \"35-44\": \"b35to44\", \"18-24\": \"b18to24\"}\n",
    "\n",
    "    modeb_list = [f\"modeb(*, {feature}(+{inputs[0]}, -{inputs[1]})).\" for feature, inputs in zip(features, input_features)]\n",
    "    modeb_list.append(\"modeb(*,user(+userid)).\")\n",
    "    modeb_list.append(\"modeb(*,movie(+movieid)).\")\n",
    "\n",
    "    # Determinations\n",
    "    determinations = []\n",
    "    determinations.append(f\"determination(recommend/2, user/1).\")\n",
    "    for f in features:\n",
    "        determinations.append(f\"determination(recommend/2, {f}/2).\")\n",
    "    \n",
    "\n",
    "    # Background knowledge\n",
    "    background_knowledge = []\n",
    "    for user in user_registry.users:\n",
    "        user_id = user.uid\n",
    "        user_gender = user.gender\n",
    "        user_age = user.age\n",
    "        background_knowledge.append(f\"user({user_id}).\")\n",
    "        background_knowledge.append(f\"gender({user_id},{user_gender}).\")\n",
    "        background_knowledge.append(f\"age({user_id},{age_dic[user_age]}).\")\n",
    "    for product in product_registry.products:\n",
    "        movie_id = product.pid\n",
    "        movie_name = product.name\n",
    "        movie_name = movie_name.lower()\n",
    "        movie_name = movie_name.replace(\"-\",\"_\")\n",
    "        movie_name = movie_name.replace(\" \",\"_\")\n",
    "        movie_name = movie_name.replace(\"(\",\"_\")\n",
    "        movie_name = movie_name.replace(\")\",\"\")\n",
    "        movie_name = movie_name.replace(\"'\",\"\")\n",
    "        movie_name = movie_name.replace(\":\",\"\")\n",
    "        movie_name = movie_name.replace(\",\",\"\")\n",
    "        movie_name = movie_name.replace(\"?\",\"\")\n",
    "        movie_name = movie_name.replace(\"!\",\"\")\n",
    "        movie_name = movie_name.replace(\".\",\"\")\n",
    "        movie_name = movie_name.replace(\"&\",\"\")\n",
    "        movie_name = movie_name.replace(\"*\",\"\")\n",
    "        movie_name = movie_name.replace(\"/\",\"_\")\n",
    "        movie_name = movie_name.replace(\"$\",\"\")\n",
    "        movie_name = movie_name.replace(\"#\", \"\")\n",
    "        movie_name = movie_name.replace(\"é\", \"\")\n",
    "        if movie_name[0].isdigit():\n",
    "            movie_name = \"m\"+movie_name\n",
    "        movie_gender = product.genre\n",
    "        movie_gender = movie_gender.lower()\n",
    "        movie_gender = movie_gender.replace(\"-\",\"_\")\n",
    "        movie_gender = movie_gender.replace(\"'\",\"\")\n",
    "        movie_gender = movie_gender.replace(\"&\",\"\")\n",
    "        background_knowledge.append(f\"movie({movie_id}).\")\n",
    "        background_knowledge.append(f\"m_gender({movie_id},{movie_gender}).\")\n",
    "        background_knowledge.append(f\"m_name({movie_id},{movie_name}).\")\n",
    "    for rating in rating_registry.ratings:\n",
    "        user_id = rating.user.uid\n",
    "        movie_id = rating.product.pid\n",
    "        background_knowledge.append(f\"watched({user_id},{movie_id}).\")\n",
    "        \n",
    "    \n",
    "    # Positive and negative examples\n",
    "    positive_examples = []\n",
    "    negative_examples = []\n",
    "    for rating in rating_registry.ratings:\n",
    "        score = rating.rating\n",
    "        user_id = rating.user\n",
    "        movie_id = rating.product\n",
    "        if score > 3:\n",
    "            positive_examples.append(f\"recommend({user_id},{movie_id}).\")\n",
    "        else:\n",
    "            negative_examples.append(f\"recommend({user_id},{movie_id}).\")\n",
    "\n",
    "    # Combine all parts into a Progol-compatible logic program\n",
    "    progol_program = \"% Mode Declarations\\n\"\n",
    "    progol_program += modeh\n",
    "    progol_program += \"\\n\".join(modeb_list) + \"\\n\\n\"\n",
    "\n",
    "    progol_program += \"% Determinations\\n\"\n",
    "    progol_program += \"\\n\".join(determinations) + \"\\n\\n\"\n",
    "\n",
    "    progol_program += \"% Background Knowledge\\n:- begin_bg.\\n\"\n",
    "    progol_program += \"\\n\".join(background_knowledge) + \"\\n:- end_bg.\\n\\n\"\n",
    "\n",
    "    progol_program += \"% Positive Examples\\n:- begin_in_pos.\\n\"\n",
    "    progol_program += \"\\n\".join(positive_examples) + \"\\n:- end_in_pos.\\n\\n\"\n",
    "\n",
    "    progol_program += \"% Negative Examples\\n:- begin_in_neg.\\n\"\n",
    "    progol_program += \"\\n\".join(negative_examples) + \"\\n:- end_in_neg.\\n\"\n",
    "\n",
    "    # Save the Progol logic program to a file with a custom name\n",
    "    output_file_path = f\"{output_file_name}.pl\"\n",
    "    with open(output_file_path, \"w\") as file:\n",
    "        file.write(progol_program)\n",
    "\n",
    "    return output_file_path\n",
    "\n",
    "# Generate the Progol logic program\n",
    "# Usage example:\n",
    "output_file_name = './movie_rec'\n",
    "output_file = generate_progol_program(user_registry, product_registry, rating_registry, output_file_name)\n",
    "print(f\"Progol logic program saved as {output_file}\")"
   ]
  },
  {
   "cell_type": "markdown",
   "metadata": {},
   "source": [
    "# Horizontal Partitionning"
   ]
  },
  {
   "cell_type": "code",
   "execution_count": 22,
   "metadata": {},
   "outputs": [
    {
     "ename": "ModuleNotFoundError",
     "evalue": "No module named 'sklearn'",
     "output_type": "error",
     "traceback": [
      "\u001b[1;31m---------------------------------------------------------------------------\u001b[0m",
      "\u001b[1;31mModuleNotFoundError\u001b[0m                       Traceback (most recent call last)",
      "Cell \u001b[1;32mIn[22], line 2\u001b[0m\n\u001b[0;32m      1\u001b[0m \u001b[38;5;28;01mimport\u001b[39;00m \u001b[38;5;21;01mpandas\u001b[39;00m \u001b[38;5;28;01mas\u001b[39;00m \u001b[38;5;21;01mpd\u001b[39;00m\n\u001b[1;32m----> 2\u001b[0m \u001b[38;5;28;01mfrom\u001b[39;00m \u001b[38;5;21;01msklearn\u001b[39;00m\u001b[38;5;21;01m.\u001b[39;00m\u001b[38;5;21;01mmodel_selection\u001b[39;00m \u001b[38;5;28;01mimport\u001b[39;00m StratifiedShuffleSplit\n\u001b[0;32m      4\u001b[0m \u001b[38;5;66;03m# Load the dataset\u001b[39;00m\n\u001b[0;32m      5\u001b[0m file_path \u001b[38;5;241m=\u001b[39m \u001b[38;5;124m'\u001b[39m\u001b[38;5;124mC:/Users/yakaichi/OneDrive - Université de Namur/Bureau/Data/pre_processed_data/smallestaftercorrelationstudies2_intubationrecords_dataset.xlsx\u001b[39m\u001b[38;5;124m'\u001b[39m\n",
      "\u001b[1;31mModuleNotFoundError\u001b[0m: No module named 'sklearn'"
     ]
    }
   ],
   "source": [
    "import pandas as pd\n",
    "from sklearn.model_selection import StratifiedShuffleSplit\n",
    "\n",
    "# Load the dataset\n",
    "file_path = 'C:/Users/yakaichi/OneDrive - Université de Namur/Bureau/Data/pre_processed_data/smallestaftercorrelationstudies2_intubationrecords_dataset.xlsx'\n",
    "data = pd.read_excel(file_path)\n",
    "\n",
    "# Get the target column (assumed to be named 'complications')\n",
    "target_column = 'complications'\n",
    "\n",
    "# Specify the number of splits\n",
    "num_splits = 6  # You can adjust this depending on how many files you want\n",
    "\n",
    "# Use StratifiedShuffleSplit to create balanced splits\n",
    "sss = StratifiedShuffleSplit(n_splits=num_splits, test_size=1/num_splits, random_state=42)\n",
    "\n",
    "# Directory to save the splits\n",
    "directory = 'C:/Users/yakaichi/OneDrive - Université de Namur/Bureau/Data/pre_processed_data/programs_parts3/'\n",
    "\n",
    "# Split and save the datasets\n",
    "for i, (_, test_index) in enumerate(sss.split(data, data[target_column])):\n",
    "    split_df = data.iloc[test_index]\n",
    "    split_df.to_excel(f'{directory}horizontal_split_dataset_{i+1}.xlsx', index=False)\n",
    "\n",
    "print(\"Balanced datasets have been saved successfully.\")"
   ]
  },
  {
   "cell_type": "markdown",
   "metadata": {},
   "source": [
    "# ILP Learning "
   ]
  },
  {
   "cell_type": "code",
   "execution_count": 21,
   "metadata": {},
   "outputs": [
    {
     "ename": "KeyboardInterrupt",
     "evalue": "",
     "output_type": "error",
     "traceback": [
      "\u001b[1;31m---------------------------------------------------------------------------\u001b[0m",
      "\u001b[1;31mKeyboardInterrupt\u001b[0m                         Traceback (most recent call last)",
      "Cell \u001b[1;32mIn[21], line 2\u001b[0m\n\u001b[0;32m      1\u001b[0m \u001b[38;5;28;01mfrom\u001b[39;00m \u001b[38;5;21;01mandante\u001b[39;00m\u001b[38;5;21;01m.\u001b[39;00m\u001b[38;5;21;01mprogram\u001b[39;00m \u001b[38;5;28;01mimport\u001b[39;00m AndanteProgram \n\u001b[1;32m----> 2\u001b[0m apmovies \u001b[38;5;241m=\u001b[39m \u001b[43mAndanteProgram\u001b[49m\u001b[38;5;241;43m.\u001b[39;49m\u001b[43mbuild_from\u001b[49m\u001b[43m(\u001b[49m\u001b[38;5;124;43m\"\u001b[39;49m\u001b[38;5;124;43mmovie_rec.pl\u001b[39;49m\u001b[38;5;124;43m\"\u001b[39;49m\u001b[43m)\u001b[49m\n\u001b[0;32m      3\u001b[0m apmovies\u001b[38;5;241m.\u001b[39minduce(update_knowledge\u001b[38;5;241m=\u001b[39m\u001b[38;5;28;01mTrue\u001b[39;00m, logging\u001b[38;5;241m=\u001b[39m\u001b[38;5;28;01mTrue\u001b[39;00m, verbose\u001b[38;5;241m=\u001b[39m\u001b[38;5;241m0\u001b[39m)\n",
      "File \u001b[1;32mc:\\Users\\yakaichi\\AppData\\Local\\Programs\\Python\\Python312\\Lib\\site-packages\\andante\\program.py:73\u001b[0m, in \u001b[0;36mAndanteProgram.build_from\u001b[1;34m(andantefile)\u001b[0m\n\u001b[0;32m     71\u001b[0m \u001b[38;5;250m\u001b[39m\u001b[38;5;124;03m\"\"\" Returns the corresponding AndanteProgram \"\"\"\u001b[39;00m\n\u001b[0;32m     72\u001b[0m \u001b[38;5;28;01mimport\u001b[39;00m \u001b[38;5;21;01mandante\u001b[39;00m\u001b[38;5;21;01m.\u001b[39;00m\u001b[38;5;21;01mparser\u001b[39;00m\n\u001b[1;32m---> 73\u001b[0m \u001b[38;5;28;01mreturn\u001b[39;00m \u001b[43mandante\u001b[49m\u001b[38;5;241;43m.\u001b[39;49m\u001b[43mparser\u001b[49m\u001b[38;5;241;43m.\u001b[39;49m\u001b[43mParser\u001b[49m\u001b[43m(\u001b[49m\u001b[43m)\u001b[49m\u001b[38;5;241;43m.\u001b[39;49m\u001b[43mparse\u001b[49m\u001b[43m(\u001b[49m\u001b[43mandantefile\u001b[49m\u001b[43m,\u001b[49m\u001b[43m \u001b[49m\u001b[38;5;124;43m'\u001b[39;49m\u001b[38;5;124;43mandantefile\u001b[39;49m\u001b[38;5;124;43m'\u001b[39;49m\u001b[43m)\u001b[49m\n",
      "File \u001b[1;32mc:\\Users\\yakaichi\\AppData\\Local\\Programs\\Python\\Python312\\Lib\\site-packages\\andante\\parser.py:70\u001b[0m, in \u001b[0;36mParser.parse\u001b[1;34m(self, string, rule)\u001b[0m\n\u001b[0;32m     67\u001b[0m text_no_comments \u001b[38;5;241m=\u001b[39m re\u001b[38;5;241m.\u001b[39msub(\u001b[38;5;124mr\u001b[39m\u001b[38;5;124m'\u001b[39m\u001b[38;5;124m%\u001b[39m\u001b[38;5;124m.*\u001b[39m\u001b[38;5;124m\\\u001b[39m\u001b[38;5;124mn\u001b[39m\u001b[38;5;124m'\u001b[39m, \u001b[38;5;124m'\u001b[39m\u001b[38;5;130;01m\\n\u001b[39;00m\u001b[38;5;124m'\u001b[39m, full_text)\n\u001b[0;32m     69\u001b[0m \u001b[38;5;28;01mtry\u001b[39;00m:\n\u001b[1;32m---> 70\u001b[0m     tree   \u001b[38;5;241m=\u001b[39m \u001b[38;5;28;43mself\u001b[39;49m\u001b[38;5;241;43m.\u001b[39;49m\u001b[43mgrammar\u001b[49m\u001b[43m[\u001b[49m\u001b[43mrule\u001b[49m\u001b[43m]\u001b[49m\u001b[38;5;241;43m.\u001b[39;49m\u001b[43mparse\u001b[49m\u001b[43m(\u001b[49m\u001b[43mtext_no_comments\u001b[49m\u001b[43m)\u001b[49m\n\u001b[0;32m     71\u001b[0m     output \u001b[38;5;241m=\u001b[39m \u001b[38;5;28mself\u001b[39m\u001b[38;5;241m.\u001b[39mvisitor\u001b[38;5;241m.\u001b[39mvisit(tree)\n\u001b[0;32m     72\u001b[0m     \u001b[38;5;28;01mreturn\u001b[39;00m output\n",
      "File \u001b[1;32mc:\\Users\\yakaichi\\AppData\\Local\\Programs\\Python\\Python312\\Lib\\site-packages\\parsimonious\\expressions.py:141\u001b[0m, in \u001b[0;36mExpression.parse\u001b[1;34m(self, text, pos)\u001b[0m\n\u001b[0;32m    133\u001b[0m \u001b[38;5;28;01mdef\u001b[39;00m \u001b[38;5;21mparse\u001b[39m(\u001b[38;5;28mself\u001b[39m, text, pos\u001b[38;5;241m=\u001b[39m\u001b[38;5;241m0\u001b[39m):\n\u001b[0;32m    134\u001b[0m \u001b[38;5;250m    \u001b[39m\u001b[38;5;124;03m\"\"\"Return a parse tree of ``text``.\u001b[39;00m\n\u001b[0;32m    135\u001b[0m \n\u001b[0;32m    136\u001b[0m \u001b[38;5;124;03m    Raise ``ParseError`` if the expression wasn't satisfied. Raise\u001b[39;00m\n\u001b[1;32m   (...)\u001b[0m\n\u001b[0;32m    139\u001b[0m \n\u001b[0;32m    140\u001b[0m \u001b[38;5;124;03m    \"\"\"\u001b[39;00m\n\u001b[1;32m--> 141\u001b[0m     node \u001b[38;5;241m=\u001b[39m \u001b[38;5;28;43mself\u001b[39;49m\u001b[38;5;241;43m.\u001b[39;49m\u001b[43mmatch\u001b[49m\u001b[43m(\u001b[49m\u001b[43mtext\u001b[49m\u001b[43m,\u001b[49m\u001b[43m \u001b[49m\u001b[43mpos\u001b[49m\u001b[38;5;241;43m=\u001b[39;49m\u001b[43mpos\u001b[49m\u001b[43m)\u001b[49m\n\u001b[0;32m    142\u001b[0m     \u001b[38;5;28;01mif\u001b[39;00m node\u001b[38;5;241m.\u001b[39mend \u001b[38;5;241m<\u001b[39m \u001b[38;5;28mlen\u001b[39m(text):\n\u001b[0;32m    143\u001b[0m         \u001b[38;5;28;01mraise\u001b[39;00m IncompleteParseError(text, node\u001b[38;5;241m.\u001b[39mend, \u001b[38;5;28mself\u001b[39m)\n",
      "File \u001b[1;32mc:\\Users\\yakaichi\\AppData\\Local\\Programs\\Python\\Python312\\Lib\\site-packages\\parsimonious\\expressions.py:156\u001b[0m, in \u001b[0;36mExpression.match\u001b[1;34m(self, text, pos)\u001b[0m\n\u001b[0;32m    147\u001b[0m \u001b[38;5;250m\u001b[39m\u001b[38;5;124;03m\"\"\"Return the parse tree matching this expression at the given\u001b[39;00m\n\u001b[0;32m    148\u001b[0m \u001b[38;5;124;03mposition, not necessarily extending all the way to the end of ``text``.\u001b[39;00m\n\u001b[0;32m    149\u001b[0m \n\u001b[1;32m   (...)\u001b[0m\n\u001b[0;32m    153\u001b[0m \n\u001b[0;32m    154\u001b[0m \u001b[38;5;124;03m\"\"\"\u001b[39;00m\n\u001b[0;32m    155\u001b[0m error \u001b[38;5;241m=\u001b[39m ParseError(text)\n\u001b[1;32m--> 156\u001b[0m node \u001b[38;5;241m=\u001b[39m \u001b[38;5;28;43mself\u001b[39;49m\u001b[38;5;241;43m.\u001b[39;49m\u001b[43mmatch_core\u001b[49m\u001b[43m(\u001b[49m\u001b[43mtext\u001b[49m\u001b[43m,\u001b[49m\u001b[43m \u001b[49m\u001b[43mpos\u001b[49m\u001b[43m,\u001b[49m\u001b[43m \u001b[49m\u001b[43mdefaultdict\u001b[49m\u001b[43m(\u001b[49m\u001b[38;5;28;43mdict\u001b[39;49m\u001b[43m)\u001b[49m\u001b[43m,\u001b[49m\u001b[43m \u001b[49m\u001b[43merror\u001b[49m\u001b[43m)\u001b[49m\n\u001b[0;32m    157\u001b[0m \u001b[38;5;28;01mif\u001b[39;00m node \u001b[38;5;129;01mis\u001b[39;00m \u001b[38;5;28;01mNone\u001b[39;00m:\n\u001b[0;32m    158\u001b[0m     \u001b[38;5;28;01mraise\u001b[39;00m error\n",
      "File \u001b[1;32mc:\\Users\\yakaichi\\AppData\\Local\\Programs\\Python\\Python312\\Lib\\site-packages\\parsimonious\\expressions.py:198\u001b[0m, in \u001b[0;36mExpression.match_core\u001b[1;34m(self, text, pos, cache, error)\u001b[0m\n\u001b[0;32m    195\u001b[0m \u001b[38;5;28;01melse\u001b[39;00m:\n\u001b[0;32m    196\u001b[0m     \u001b[38;5;66;03m# TODO: Set default value to prevent infinite recursion in left-recursive rules.\u001b[39;00m\n\u001b[0;32m    197\u001b[0m     expr_cache[pos] \u001b[38;5;241m=\u001b[39m IN_PROGRESS  \u001b[38;5;66;03m# Mark as in progress\u001b[39;00m\n\u001b[1;32m--> 198\u001b[0m     node \u001b[38;5;241m=\u001b[39m expr_cache[pos] \u001b[38;5;241m=\u001b[39m \u001b[38;5;28;43mself\u001b[39;49m\u001b[38;5;241;43m.\u001b[39;49m\u001b[43m_uncached_match\u001b[49m\u001b[43m(\u001b[49m\u001b[43mtext\u001b[49m\u001b[43m,\u001b[49m\u001b[43m \u001b[49m\u001b[43mpos\u001b[49m\u001b[43m,\u001b[49m\u001b[43m \u001b[49m\u001b[43mcache\u001b[49m\u001b[43m,\u001b[49m\u001b[43m \u001b[49m\u001b[43merror\u001b[49m\u001b[43m)\u001b[49m\n\u001b[0;32m    199\u001b[0m \u001b[38;5;28;01mif\u001b[39;00m node \u001b[38;5;129;01mis\u001b[39;00m IN_PROGRESS:\n\u001b[0;32m    200\u001b[0m     \u001b[38;5;28;01mraise\u001b[39;00m LeftRecursionError(text, pos\u001b[38;5;241m=\u001b[39m\u001b[38;5;241m-\u001b[39m\u001b[38;5;241m1\u001b[39m, expr\u001b[38;5;241m=\u001b[39m\u001b[38;5;28mself\u001b[39m)\n",
      "File \u001b[1;32mc:\\Users\\yakaichi\\AppData\\Local\\Programs\\Python\\Python312\\Lib\\site-packages\\parsimonious\\expressions.py:358\u001b[0m, in \u001b[0;36mSequence._uncached_match\u001b[1;34m(self, text, pos, cache, error)\u001b[0m\n\u001b[0;32m    356\u001b[0m children \u001b[38;5;241m=\u001b[39m []\n\u001b[0;32m    357\u001b[0m \u001b[38;5;28;01mfor\u001b[39;00m m \u001b[38;5;129;01min\u001b[39;00m \u001b[38;5;28mself\u001b[39m\u001b[38;5;241m.\u001b[39mmembers:\n\u001b[1;32m--> 358\u001b[0m     node \u001b[38;5;241m=\u001b[39m \u001b[43mm\u001b[49m\u001b[38;5;241;43m.\u001b[39;49m\u001b[43mmatch_core\u001b[49m\u001b[43m(\u001b[49m\u001b[43mtext\u001b[49m\u001b[43m,\u001b[49m\u001b[43m \u001b[49m\u001b[43mnew_pos\u001b[49m\u001b[43m,\u001b[49m\u001b[43m \u001b[49m\u001b[43mcache\u001b[49m\u001b[43m,\u001b[49m\u001b[43m \u001b[49m\u001b[43merror\u001b[49m\u001b[43m)\u001b[49m\n\u001b[0;32m    359\u001b[0m     \u001b[38;5;28;01mif\u001b[39;00m node \u001b[38;5;129;01mis\u001b[39;00m \u001b[38;5;28;01mNone\u001b[39;00m:\n\u001b[0;32m    360\u001b[0m         \u001b[38;5;28;01mreturn\u001b[39;00m \u001b[38;5;28;01mNone\u001b[39;00m\n",
      "File \u001b[1;32mc:\\Users\\yakaichi\\AppData\\Local\\Programs\\Python\\Python312\\Lib\\site-packages\\parsimonious\\expressions.py:198\u001b[0m, in \u001b[0;36mExpression.match_core\u001b[1;34m(self, text, pos, cache, error)\u001b[0m\n\u001b[0;32m    195\u001b[0m \u001b[38;5;28;01melse\u001b[39;00m:\n\u001b[0;32m    196\u001b[0m     \u001b[38;5;66;03m# TODO: Set default value to prevent infinite recursion in left-recursive rules.\u001b[39;00m\n\u001b[0;32m    197\u001b[0m     expr_cache[pos] \u001b[38;5;241m=\u001b[39m IN_PROGRESS  \u001b[38;5;66;03m# Mark as in progress\u001b[39;00m\n\u001b[1;32m--> 198\u001b[0m     node \u001b[38;5;241m=\u001b[39m expr_cache[pos] \u001b[38;5;241m=\u001b[39m \u001b[38;5;28;43mself\u001b[39;49m\u001b[38;5;241;43m.\u001b[39;49m\u001b[43m_uncached_match\u001b[49m\u001b[43m(\u001b[49m\u001b[43mtext\u001b[49m\u001b[43m,\u001b[49m\u001b[43m \u001b[49m\u001b[43mpos\u001b[49m\u001b[43m,\u001b[49m\u001b[43m \u001b[49m\u001b[43mcache\u001b[49m\u001b[43m,\u001b[49m\u001b[43m \u001b[49m\u001b[43merror\u001b[49m\u001b[43m)\u001b[49m\n\u001b[0;32m    199\u001b[0m \u001b[38;5;28;01mif\u001b[39;00m node \u001b[38;5;129;01mis\u001b[39;00m IN_PROGRESS:\n\u001b[0;32m    200\u001b[0m     \u001b[38;5;28;01mraise\u001b[39;00m LeftRecursionError(text, pos\u001b[38;5;241m=\u001b[39m\u001b[38;5;241m-\u001b[39m\u001b[38;5;241m1\u001b[39m, expr\u001b[38;5;241m=\u001b[39m\u001b[38;5;28mself\u001b[39m)\n",
      "File \u001b[1;32mc:\\Users\\yakaichi\\AppData\\Local\\Programs\\Python\\Python312\\Lib\\site-packages\\parsimonious\\expressions.py:358\u001b[0m, in \u001b[0;36mSequence._uncached_match\u001b[1;34m(self, text, pos, cache, error)\u001b[0m\n\u001b[0;32m    356\u001b[0m children \u001b[38;5;241m=\u001b[39m []\n\u001b[0;32m    357\u001b[0m \u001b[38;5;28;01mfor\u001b[39;00m m \u001b[38;5;129;01min\u001b[39;00m \u001b[38;5;28mself\u001b[39m\u001b[38;5;241m.\u001b[39mmembers:\n\u001b[1;32m--> 358\u001b[0m     node \u001b[38;5;241m=\u001b[39m \u001b[43mm\u001b[49m\u001b[38;5;241;43m.\u001b[39;49m\u001b[43mmatch_core\u001b[49m\u001b[43m(\u001b[49m\u001b[43mtext\u001b[49m\u001b[43m,\u001b[49m\u001b[43m \u001b[49m\u001b[43mnew_pos\u001b[49m\u001b[43m,\u001b[49m\u001b[43m \u001b[49m\u001b[43mcache\u001b[49m\u001b[43m,\u001b[49m\u001b[43m \u001b[49m\u001b[43merror\u001b[49m\u001b[43m)\u001b[49m\n\u001b[0;32m    359\u001b[0m     \u001b[38;5;28;01mif\u001b[39;00m node \u001b[38;5;129;01mis\u001b[39;00m \u001b[38;5;28;01mNone\u001b[39;00m:\n\u001b[0;32m    360\u001b[0m         \u001b[38;5;28;01mreturn\u001b[39;00m \u001b[38;5;28;01mNone\u001b[39;00m\n",
      "File \u001b[1;32mc:\\Users\\yakaichi\\AppData\\Local\\Programs\\Python\\Python312\\Lib\\site-packages\\parsimonious\\expressions.py:198\u001b[0m, in \u001b[0;36mExpression.match_core\u001b[1;34m(self, text, pos, cache, error)\u001b[0m\n\u001b[0;32m    195\u001b[0m \u001b[38;5;28;01melse\u001b[39;00m:\n\u001b[0;32m    196\u001b[0m     \u001b[38;5;66;03m# TODO: Set default value to prevent infinite recursion in left-recursive rules.\u001b[39;00m\n\u001b[0;32m    197\u001b[0m     expr_cache[pos] \u001b[38;5;241m=\u001b[39m IN_PROGRESS  \u001b[38;5;66;03m# Mark as in progress\u001b[39;00m\n\u001b[1;32m--> 198\u001b[0m     node \u001b[38;5;241m=\u001b[39m expr_cache[pos] \u001b[38;5;241m=\u001b[39m \u001b[38;5;28;43mself\u001b[39;49m\u001b[38;5;241;43m.\u001b[39;49m\u001b[43m_uncached_match\u001b[49m\u001b[43m(\u001b[49m\u001b[43mtext\u001b[49m\u001b[43m,\u001b[49m\u001b[43m \u001b[49m\u001b[43mpos\u001b[49m\u001b[43m,\u001b[49m\u001b[43m \u001b[49m\u001b[43mcache\u001b[49m\u001b[43m,\u001b[49m\u001b[43m \u001b[49m\u001b[43merror\u001b[49m\u001b[43m)\u001b[49m\n\u001b[0;32m    199\u001b[0m \u001b[38;5;28;01mif\u001b[39;00m node \u001b[38;5;129;01mis\u001b[39;00m IN_PROGRESS:\n\u001b[0;32m    200\u001b[0m     \u001b[38;5;28;01mraise\u001b[39;00m LeftRecursionError(text, pos\u001b[38;5;241m=\u001b[39m\u001b[38;5;241m-\u001b[39m\u001b[38;5;241m1\u001b[39m, expr\u001b[38;5;241m=\u001b[39m\u001b[38;5;28mself\u001b[39m)\n",
      "File \u001b[1;32mc:\\Users\\yakaichi\\AppData\\Local\\Programs\\Python\\Python312\\Lib\\site-packages\\parsimonious\\expressions.py:433\u001b[0m, in \u001b[0;36mQuantifier._uncached_match\u001b[1;34m(self, text, pos, cache, error)\u001b[0m\n\u001b[0;32m    431\u001b[0m size \u001b[38;5;241m=\u001b[39m \u001b[38;5;28mlen\u001b[39m(text)\n\u001b[0;32m    432\u001b[0m \u001b[38;5;28;01mwhile\u001b[39;00m new_pos \u001b[38;5;241m<\u001b[39m size \u001b[38;5;129;01mand\u001b[39;00m \u001b[38;5;28mlen\u001b[39m(children) \u001b[38;5;241m<\u001b[39m \u001b[38;5;28mself\u001b[39m\u001b[38;5;241m.\u001b[39mmax:\n\u001b[1;32m--> 433\u001b[0m     node \u001b[38;5;241m=\u001b[39m \u001b[38;5;28;43mself\u001b[39;49m\u001b[38;5;241;43m.\u001b[39;49m\u001b[43mmembers\u001b[49m\u001b[43m[\u001b[49m\u001b[38;5;241;43m0\u001b[39;49m\u001b[43m]\u001b[49m\u001b[38;5;241;43m.\u001b[39;49m\u001b[43mmatch_core\u001b[49m\u001b[43m(\u001b[49m\u001b[43mtext\u001b[49m\u001b[43m,\u001b[49m\u001b[43m \u001b[49m\u001b[43mnew_pos\u001b[49m\u001b[43m,\u001b[49m\u001b[43m \u001b[49m\u001b[43mcache\u001b[49m\u001b[43m,\u001b[49m\u001b[43m \u001b[49m\u001b[43merror\u001b[49m\u001b[43m)\u001b[49m\n\u001b[0;32m    434\u001b[0m     \u001b[38;5;28;01mif\u001b[39;00m node \u001b[38;5;129;01mis\u001b[39;00m \u001b[38;5;28;01mNone\u001b[39;00m:\n\u001b[0;32m    435\u001b[0m         \u001b[38;5;28;01mbreak\u001b[39;00m \u001b[38;5;66;03m# no more matches\u001b[39;00m\n",
      "File \u001b[1;32mc:\\Users\\yakaichi\\AppData\\Local\\Programs\\Python\\Python312\\Lib\\site-packages\\parsimonious\\expressions.py:198\u001b[0m, in \u001b[0;36mExpression.match_core\u001b[1;34m(self, text, pos, cache, error)\u001b[0m\n\u001b[0;32m    195\u001b[0m \u001b[38;5;28;01melse\u001b[39;00m:\n\u001b[0;32m    196\u001b[0m     \u001b[38;5;66;03m# TODO: Set default value to prevent infinite recursion in left-recursive rules.\u001b[39;00m\n\u001b[0;32m    197\u001b[0m     expr_cache[pos] \u001b[38;5;241m=\u001b[39m IN_PROGRESS  \u001b[38;5;66;03m# Mark as in progress\u001b[39;00m\n\u001b[1;32m--> 198\u001b[0m     node \u001b[38;5;241m=\u001b[39m expr_cache[pos] \u001b[38;5;241m=\u001b[39m \u001b[38;5;28;43mself\u001b[39;49m\u001b[38;5;241;43m.\u001b[39;49m\u001b[43m_uncached_match\u001b[49m\u001b[43m(\u001b[49m\u001b[43mtext\u001b[49m\u001b[43m,\u001b[49m\u001b[43m \u001b[49m\u001b[43mpos\u001b[49m\u001b[43m,\u001b[49m\u001b[43m \u001b[49m\u001b[43mcache\u001b[49m\u001b[43m,\u001b[49m\u001b[43m \u001b[49m\u001b[43merror\u001b[49m\u001b[43m)\u001b[49m\n\u001b[0;32m    199\u001b[0m \u001b[38;5;28;01mif\u001b[39;00m node \u001b[38;5;129;01mis\u001b[39;00m IN_PROGRESS:\n\u001b[0;32m    200\u001b[0m     \u001b[38;5;28;01mraise\u001b[39;00m LeftRecursionError(text, pos\u001b[38;5;241m=\u001b[39m\u001b[38;5;241m-\u001b[39m\u001b[38;5;241m1\u001b[39m, expr\u001b[38;5;241m=\u001b[39m\u001b[38;5;28mself\u001b[39m)\n",
      "File \u001b[1;32mc:\\Users\\yakaichi\\AppData\\Local\\Programs\\Python\\Python312\\Lib\\site-packages\\parsimonious\\expressions.py:358\u001b[0m, in \u001b[0;36mSequence._uncached_match\u001b[1;34m(self, text, pos, cache, error)\u001b[0m\n\u001b[0;32m    356\u001b[0m children \u001b[38;5;241m=\u001b[39m []\n\u001b[0;32m    357\u001b[0m \u001b[38;5;28;01mfor\u001b[39;00m m \u001b[38;5;129;01min\u001b[39;00m \u001b[38;5;28mself\u001b[39m\u001b[38;5;241m.\u001b[39mmembers:\n\u001b[1;32m--> 358\u001b[0m     node \u001b[38;5;241m=\u001b[39m \u001b[43mm\u001b[49m\u001b[38;5;241;43m.\u001b[39;49m\u001b[43mmatch_core\u001b[49m\u001b[43m(\u001b[49m\u001b[43mtext\u001b[49m\u001b[43m,\u001b[49m\u001b[43m \u001b[49m\u001b[43mnew_pos\u001b[49m\u001b[43m,\u001b[49m\u001b[43m \u001b[49m\u001b[43mcache\u001b[49m\u001b[43m,\u001b[49m\u001b[43m \u001b[49m\u001b[43merror\u001b[49m\u001b[43m)\u001b[49m\n\u001b[0;32m    359\u001b[0m     \u001b[38;5;28;01mif\u001b[39;00m node \u001b[38;5;129;01mis\u001b[39;00m \u001b[38;5;28;01mNone\u001b[39;00m:\n\u001b[0;32m    360\u001b[0m         \u001b[38;5;28;01mreturn\u001b[39;00m \u001b[38;5;28;01mNone\u001b[39;00m\n",
      "File \u001b[1;32mc:\\Users\\yakaichi\\AppData\\Local\\Programs\\Python\\Python312\\Lib\\site-packages\\parsimonious\\expressions.py:198\u001b[0m, in \u001b[0;36mExpression.match_core\u001b[1;34m(self, text, pos, cache, error)\u001b[0m\n\u001b[0;32m    195\u001b[0m \u001b[38;5;28;01melse\u001b[39;00m:\n\u001b[0;32m    196\u001b[0m     \u001b[38;5;66;03m# TODO: Set default value to prevent infinite recursion in left-recursive rules.\u001b[39;00m\n\u001b[0;32m    197\u001b[0m     expr_cache[pos] \u001b[38;5;241m=\u001b[39m IN_PROGRESS  \u001b[38;5;66;03m# Mark as in progress\u001b[39;00m\n\u001b[1;32m--> 198\u001b[0m     node \u001b[38;5;241m=\u001b[39m expr_cache[pos] \u001b[38;5;241m=\u001b[39m \u001b[38;5;28;43mself\u001b[39;49m\u001b[38;5;241;43m.\u001b[39;49m\u001b[43m_uncached_match\u001b[49m\u001b[43m(\u001b[49m\u001b[43mtext\u001b[49m\u001b[43m,\u001b[49m\u001b[43m \u001b[49m\u001b[43mpos\u001b[49m\u001b[43m,\u001b[49m\u001b[43m \u001b[49m\u001b[43mcache\u001b[49m\u001b[43m,\u001b[49m\u001b[43m \u001b[49m\u001b[43merror\u001b[49m\u001b[43m)\u001b[49m\n\u001b[0;32m    199\u001b[0m \u001b[38;5;28;01mif\u001b[39;00m node \u001b[38;5;129;01mis\u001b[39;00m IN_PROGRESS:\n\u001b[0;32m    200\u001b[0m     \u001b[38;5;28;01mraise\u001b[39;00m LeftRecursionError(text, pos\u001b[38;5;241m=\u001b[39m\u001b[38;5;241m-\u001b[39m\u001b[38;5;241m1\u001b[39m, expr\u001b[38;5;241m=\u001b[39m\u001b[38;5;28mself\u001b[39m)\n",
      "File \u001b[1;32mc:\\Users\\yakaichi\\AppData\\Local\\Programs\\Python\\Python312\\Lib\\site-packages\\parsimonious\\expressions.py:380\u001b[0m, in \u001b[0;36mOneOf._uncached_match\u001b[1;34m(self, text, pos, cache, error)\u001b[0m\n\u001b[0;32m    378\u001b[0m \u001b[38;5;28;01mdef\u001b[39;00m \u001b[38;5;21m_uncached_match\u001b[39m(\u001b[38;5;28mself\u001b[39m, text, pos, cache, error):\n\u001b[0;32m    379\u001b[0m     \u001b[38;5;28;01mfor\u001b[39;00m m \u001b[38;5;129;01min\u001b[39;00m \u001b[38;5;28mself\u001b[39m\u001b[38;5;241m.\u001b[39mmembers:\n\u001b[1;32m--> 380\u001b[0m         node \u001b[38;5;241m=\u001b[39m \u001b[43mm\u001b[49m\u001b[38;5;241;43m.\u001b[39;49m\u001b[43mmatch_core\u001b[49m\u001b[43m(\u001b[49m\u001b[43mtext\u001b[49m\u001b[43m,\u001b[49m\u001b[43m \u001b[49m\u001b[43mpos\u001b[49m\u001b[43m,\u001b[49m\u001b[43m \u001b[49m\u001b[43mcache\u001b[49m\u001b[43m,\u001b[49m\u001b[43m \u001b[49m\u001b[43merror\u001b[49m\u001b[43m)\u001b[49m\n\u001b[0;32m    381\u001b[0m         \u001b[38;5;28;01mif\u001b[39;00m node \u001b[38;5;129;01mis\u001b[39;00m \u001b[38;5;129;01mnot\u001b[39;00m \u001b[38;5;28;01mNone\u001b[39;00m:\n\u001b[0;32m    382\u001b[0m             \u001b[38;5;66;03m# Wrap the succeeding child in a node representing the OneOf:\u001b[39;00m\n\u001b[0;32m    383\u001b[0m             \u001b[38;5;28;01mreturn\u001b[39;00m Node(\u001b[38;5;28mself\u001b[39m, text, pos, node\u001b[38;5;241m.\u001b[39mend, children\u001b[38;5;241m=\u001b[39m[node])\n",
      "File \u001b[1;32mc:\\Users\\yakaichi\\AppData\\Local\\Programs\\Python\\Python312\\Lib\\site-packages\\parsimonious\\expressions.py:198\u001b[0m, in \u001b[0;36mExpression.match_core\u001b[1;34m(self, text, pos, cache, error)\u001b[0m\n\u001b[0;32m    195\u001b[0m \u001b[38;5;28;01melse\u001b[39;00m:\n\u001b[0;32m    196\u001b[0m     \u001b[38;5;66;03m# TODO: Set default value to prevent infinite recursion in left-recursive rules.\u001b[39;00m\n\u001b[0;32m    197\u001b[0m     expr_cache[pos] \u001b[38;5;241m=\u001b[39m IN_PROGRESS  \u001b[38;5;66;03m# Mark as in progress\u001b[39;00m\n\u001b[1;32m--> 198\u001b[0m     node \u001b[38;5;241m=\u001b[39m expr_cache[pos] \u001b[38;5;241m=\u001b[39m \u001b[38;5;28;43mself\u001b[39;49m\u001b[38;5;241;43m.\u001b[39;49m\u001b[43m_uncached_match\u001b[49m\u001b[43m(\u001b[49m\u001b[43mtext\u001b[49m\u001b[43m,\u001b[49m\u001b[43m \u001b[49m\u001b[43mpos\u001b[49m\u001b[43m,\u001b[49m\u001b[43m \u001b[49m\u001b[43mcache\u001b[49m\u001b[43m,\u001b[49m\u001b[43m \u001b[49m\u001b[43merror\u001b[49m\u001b[43m)\u001b[49m\n\u001b[0;32m    199\u001b[0m \u001b[38;5;28;01mif\u001b[39;00m node \u001b[38;5;129;01mis\u001b[39;00m IN_PROGRESS:\n\u001b[0;32m    200\u001b[0m     \u001b[38;5;28;01mraise\u001b[39;00m LeftRecursionError(text, pos\u001b[38;5;241m=\u001b[39m\u001b[38;5;241m-\u001b[39m\u001b[38;5;241m1\u001b[39m, expr\u001b[38;5;241m=\u001b[39m\u001b[38;5;28mself\u001b[39m)\n",
      "File \u001b[1;32mc:\\Users\\yakaichi\\AppData\\Local\\Programs\\Python\\Python312\\Lib\\site-packages\\parsimonious\\expressions.py:358\u001b[0m, in \u001b[0;36mSequence._uncached_match\u001b[1;34m(self, text, pos, cache, error)\u001b[0m\n\u001b[0;32m    356\u001b[0m children \u001b[38;5;241m=\u001b[39m []\n\u001b[0;32m    357\u001b[0m \u001b[38;5;28;01mfor\u001b[39;00m m \u001b[38;5;129;01min\u001b[39;00m \u001b[38;5;28mself\u001b[39m\u001b[38;5;241m.\u001b[39mmembers:\n\u001b[1;32m--> 358\u001b[0m     node \u001b[38;5;241m=\u001b[39m \u001b[43mm\u001b[49m\u001b[38;5;241;43m.\u001b[39;49m\u001b[43mmatch_core\u001b[49m\u001b[43m(\u001b[49m\u001b[43mtext\u001b[49m\u001b[43m,\u001b[49m\u001b[43m \u001b[49m\u001b[43mnew_pos\u001b[49m\u001b[43m,\u001b[49m\u001b[43m \u001b[49m\u001b[43mcache\u001b[49m\u001b[43m,\u001b[49m\u001b[43m \u001b[49m\u001b[43merror\u001b[49m\u001b[43m)\u001b[49m\n\u001b[0;32m    359\u001b[0m     \u001b[38;5;28;01mif\u001b[39;00m node \u001b[38;5;129;01mis\u001b[39;00m \u001b[38;5;28;01mNone\u001b[39;00m:\n\u001b[0;32m    360\u001b[0m         \u001b[38;5;28;01mreturn\u001b[39;00m \u001b[38;5;28;01mNone\u001b[39;00m\n",
      "File \u001b[1;32mc:\\Users\\yakaichi\\AppData\\Local\\Programs\\Python\\Python312\\Lib\\site-packages\\parsimonious\\expressions.py:198\u001b[0m, in \u001b[0;36mExpression.match_core\u001b[1;34m(self, text, pos, cache, error)\u001b[0m\n\u001b[0;32m    195\u001b[0m \u001b[38;5;28;01melse\u001b[39;00m:\n\u001b[0;32m    196\u001b[0m     \u001b[38;5;66;03m# TODO: Set default value to prevent infinite recursion in left-recursive rules.\u001b[39;00m\n\u001b[0;32m    197\u001b[0m     expr_cache[pos] \u001b[38;5;241m=\u001b[39m IN_PROGRESS  \u001b[38;5;66;03m# Mark as in progress\u001b[39;00m\n\u001b[1;32m--> 198\u001b[0m     node \u001b[38;5;241m=\u001b[39m expr_cache[pos] \u001b[38;5;241m=\u001b[39m \u001b[38;5;28;43mself\u001b[39;49m\u001b[38;5;241;43m.\u001b[39;49m\u001b[43m_uncached_match\u001b[49m\u001b[43m(\u001b[49m\u001b[43mtext\u001b[49m\u001b[43m,\u001b[49m\u001b[43m \u001b[49m\u001b[43mpos\u001b[49m\u001b[43m,\u001b[49m\u001b[43m \u001b[49m\u001b[43mcache\u001b[49m\u001b[43m,\u001b[49m\u001b[43m \u001b[49m\u001b[43merror\u001b[49m\u001b[43m)\u001b[49m\n\u001b[0;32m    199\u001b[0m \u001b[38;5;28;01mif\u001b[39;00m node \u001b[38;5;129;01mis\u001b[39;00m IN_PROGRESS:\n\u001b[0;32m    200\u001b[0m     \u001b[38;5;28;01mraise\u001b[39;00m LeftRecursionError(text, pos\u001b[38;5;241m=\u001b[39m\u001b[38;5;241m-\u001b[39m\u001b[38;5;241m1\u001b[39m, expr\u001b[38;5;241m=\u001b[39m\u001b[38;5;28mself\u001b[39m)\n",
      "File \u001b[1;32mc:\\Users\\yakaichi\\AppData\\Local\\Programs\\Python\\Python312\\Lib\\site-packages\\parsimonious\\expressions.py:380\u001b[0m, in \u001b[0;36mOneOf._uncached_match\u001b[1;34m(self, text, pos, cache, error)\u001b[0m\n\u001b[0;32m    378\u001b[0m \u001b[38;5;28;01mdef\u001b[39;00m \u001b[38;5;21m_uncached_match\u001b[39m(\u001b[38;5;28mself\u001b[39m, text, pos, cache, error):\n\u001b[0;32m    379\u001b[0m     \u001b[38;5;28;01mfor\u001b[39;00m m \u001b[38;5;129;01min\u001b[39;00m \u001b[38;5;28mself\u001b[39m\u001b[38;5;241m.\u001b[39mmembers:\n\u001b[1;32m--> 380\u001b[0m         node \u001b[38;5;241m=\u001b[39m \u001b[43mm\u001b[49m\u001b[38;5;241;43m.\u001b[39;49m\u001b[43mmatch_core\u001b[49m\u001b[43m(\u001b[49m\u001b[43mtext\u001b[49m\u001b[43m,\u001b[49m\u001b[43m \u001b[49m\u001b[43mpos\u001b[49m\u001b[43m,\u001b[49m\u001b[43m \u001b[49m\u001b[43mcache\u001b[49m\u001b[43m,\u001b[49m\u001b[43m \u001b[49m\u001b[43merror\u001b[49m\u001b[43m)\u001b[49m\n\u001b[0;32m    381\u001b[0m         \u001b[38;5;28;01mif\u001b[39;00m node \u001b[38;5;129;01mis\u001b[39;00m \u001b[38;5;129;01mnot\u001b[39;00m \u001b[38;5;28;01mNone\u001b[39;00m:\n\u001b[0;32m    382\u001b[0m             \u001b[38;5;66;03m# Wrap the succeeding child in a node representing the OneOf:\u001b[39;00m\n\u001b[0;32m    383\u001b[0m             \u001b[38;5;28;01mreturn\u001b[39;00m Node(\u001b[38;5;28mself\u001b[39m, text, pos, node\u001b[38;5;241m.\u001b[39mend, children\u001b[38;5;241m=\u001b[39m[node])\n",
      "File \u001b[1;32mc:\\Users\\yakaichi\\AppData\\Local\\Programs\\Python\\Python312\\Lib\\site-packages\\parsimonious\\expressions.py:198\u001b[0m, in \u001b[0;36mExpression.match_core\u001b[1;34m(self, text, pos, cache, error)\u001b[0m\n\u001b[0;32m    195\u001b[0m \u001b[38;5;28;01melse\u001b[39;00m:\n\u001b[0;32m    196\u001b[0m     \u001b[38;5;66;03m# TODO: Set default value to prevent infinite recursion in left-recursive rules.\u001b[39;00m\n\u001b[0;32m    197\u001b[0m     expr_cache[pos] \u001b[38;5;241m=\u001b[39m IN_PROGRESS  \u001b[38;5;66;03m# Mark as in progress\u001b[39;00m\n\u001b[1;32m--> 198\u001b[0m     node \u001b[38;5;241m=\u001b[39m expr_cache[pos] \u001b[38;5;241m=\u001b[39m \u001b[38;5;28;43mself\u001b[39;49m\u001b[38;5;241;43m.\u001b[39;49m\u001b[43m_uncached_match\u001b[49m\u001b[43m(\u001b[49m\u001b[43mtext\u001b[49m\u001b[43m,\u001b[49m\u001b[43m \u001b[49m\u001b[43mpos\u001b[49m\u001b[43m,\u001b[49m\u001b[43m \u001b[49m\u001b[43mcache\u001b[49m\u001b[43m,\u001b[49m\u001b[43m \u001b[49m\u001b[43merror\u001b[49m\u001b[43m)\u001b[49m\n\u001b[0;32m    199\u001b[0m \u001b[38;5;28;01mif\u001b[39;00m node \u001b[38;5;129;01mis\u001b[39;00m IN_PROGRESS:\n\u001b[0;32m    200\u001b[0m     \u001b[38;5;28;01mraise\u001b[39;00m LeftRecursionError(text, pos\u001b[38;5;241m=\u001b[39m\u001b[38;5;241m-\u001b[39m\u001b[38;5;241m1\u001b[39m, expr\u001b[38;5;241m=\u001b[39m\u001b[38;5;28mself\u001b[39m)\n",
      "File \u001b[1;32mc:\\Users\\yakaichi\\AppData\\Local\\Programs\\Python\\Python312\\Lib\\site-packages\\parsimonious\\expressions.py:358\u001b[0m, in \u001b[0;36mSequence._uncached_match\u001b[1;34m(self, text, pos, cache, error)\u001b[0m\n\u001b[0;32m    356\u001b[0m children \u001b[38;5;241m=\u001b[39m []\n\u001b[0;32m    357\u001b[0m \u001b[38;5;28;01mfor\u001b[39;00m m \u001b[38;5;129;01min\u001b[39;00m \u001b[38;5;28mself\u001b[39m\u001b[38;5;241m.\u001b[39mmembers:\n\u001b[1;32m--> 358\u001b[0m     node \u001b[38;5;241m=\u001b[39m \u001b[43mm\u001b[49m\u001b[38;5;241;43m.\u001b[39;49m\u001b[43mmatch_core\u001b[49m\u001b[43m(\u001b[49m\u001b[43mtext\u001b[49m\u001b[43m,\u001b[49m\u001b[43m \u001b[49m\u001b[43mnew_pos\u001b[49m\u001b[43m,\u001b[49m\u001b[43m \u001b[49m\u001b[43mcache\u001b[49m\u001b[43m,\u001b[49m\u001b[43m \u001b[49m\u001b[43merror\u001b[49m\u001b[43m)\u001b[49m\n\u001b[0;32m    359\u001b[0m     \u001b[38;5;28;01mif\u001b[39;00m node \u001b[38;5;129;01mis\u001b[39;00m \u001b[38;5;28;01mNone\u001b[39;00m:\n\u001b[0;32m    360\u001b[0m         \u001b[38;5;28;01mreturn\u001b[39;00m \u001b[38;5;28;01mNone\u001b[39;00m\n",
      "File \u001b[1;32mc:\\Users\\yakaichi\\AppData\\Local\\Programs\\Python\\Python312\\Lib\\site-packages\\parsimonious\\expressions.py:198\u001b[0m, in \u001b[0;36mExpression.match_core\u001b[1;34m(self, text, pos, cache, error)\u001b[0m\n\u001b[0;32m    195\u001b[0m \u001b[38;5;28;01melse\u001b[39;00m:\n\u001b[0;32m    196\u001b[0m     \u001b[38;5;66;03m# TODO: Set default value to prevent infinite recursion in left-recursive rules.\u001b[39;00m\n\u001b[0;32m    197\u001b[0m     expr_cache[pos] \u001b[38;5;241m=\u001b[39m IN_PROGRESS  \u001b[38;5;66;03m# Mark as in progress\u001b[39;00m\n\u001b[1;32m--> 198\u001b[0m     node \u001b[38;5;241m=\u001b[39m expr_cache[pos] \u001b[38;5;241m=\u001b[39m \u001b[38;5;28;43mself\u001b[39;49m\u001b[38;5;241;43m.\u001b[39;49m\u001b[43m_uncached_match\u001b[49m\u001b[43m(\u001b[49m\u001b[43mtext\u001b[49m\u001b[43m,\u001b[49m\u001b[43m \u001b[49m\u001b[43mpos\u001b[49m\u001b[43m,\u001b[49m\u001b[43m \u001b[49m\u001b[43mcache\u001b[49m\u001b[43m,\u001b[49m\u001b[43m \u001b[49m\u001b[43merror\u001b[49m\u001b[43m)\u001b[49m\n\u001b[0;32m    199\u001b[0m \u001b[38;5;28;01mif\u001b[39;00m node \u001b[38;5;129;01mis\u001b[39;00m IN_PROGRESS:\n\u001b[0;32m    200\u001b[0m     \u001b[38;5;28;01mraise\u001b[39;00m LeftRecursionError(text, pos\u001b[38;5;241m=\u001b[39m\u001b[38;5;241m-\u001b[39m\u001b[38;5;241m1\u001b[39m, expr\u001b[38;5;241m=\u001b[39m\u001b[38;5;28mself\u001b[39m)\n",
      "File \u001b[1;32mc:\\Users\\yakaichi\\AppData\\Local\\Programs\\Python\\Python312\\Lib\\site-packages\\parsimonious\\expressions.py:380\u001b[0m, in \u001b[0;36mOneOf._uncached_match\u001b[1;34m(self, text, pos, cache, error)\u001b[0m\n\u001b[0;32m    378\u001b[0m \u001b[38;5;28;01mdef\u001b[39;00m \u001b[38;5;21m_uncached_match\u001b[39m(\u001b[38;5;28mself\u001b[39m, text, pos, cache, error):\n\u001b[0;32m    379\u001b[0m     \u001b[38;5;28;01mfor\u001b[39;00m m \u001b[38;5;129;01min\u001b[39;00m \u001b[38;5;28mself\u001b[39m\u001b[38;5;241m.\u001b[39mmembers:\n\u001b[1;32m--> 380\u001b[0m         node \u001b[38;5;241m=\u001b[39m \u001b[43mm\u001b[49m\u001b[38;5;241;43m.\u001b[39;49m\u001b[43mmatch_core\u001b[49m\u001b[43m(\u001b[49m\u001b[43mtext\u001b[49m\u001b[43m,\u001b[49m\u001b[43m \u001b[49m\u001b[43mpos\u001b[49m\u001b[43m,\u001b[49m\u001b[43m \u001b[49m\u001b[43mcache\u001b[49m\u001b[43m,\u001b[49m\u001b[43m \u001b[49m\u001b[43merror\u001b[49m\u001b[43m)\u001b[49m\n\u001b[0;32m    381\u001b[0m         \u001b[38;5;28;01mif\u001b[39;00m node \u001b[38;5;129;01mis\u001b[39;00m \u001b[38;5;129;01mnot\u001b[39;00m \u001b[38;5;28;01mNone\u001b[39;00m:\n\u001b[0;32m    382\u001b[0m             \u001b[38;5;66;03m# Wrap the succeeding child in a node representing the OneOf:\u001b[39;00m\n\u001b[0;32m    383\u001b[0m             \u001b[38;5;28;01mreturn\u001b[39;00m Node(\u001b[38;5;28mself\u001b[39m, text, pos, node\u001b[38;5;241m.\u001b[39mend, children\u001b[38;5;241m=\u001b[39m[node])\n",
      "File \u001b[1;32mc:\\Users\\yakaichi\\AppData\\Local\\Programs\\Python\\Python312\\Lib\\site-packages\\parsimonious\\expressions.py:198\u001b[0m, in \u001b[0;36mExpression.match_core\u001b[1;34m(self, text, pos, cache, error)\u001b[0m\n\u001b[0;32m    195\u001b[0m \u001b[38;5;28;01melse\u001b[39;00m:\n\u001b[0;32m    196\u001b[0m     \u001b[38;5;66;03m# TODO: Set default value to prevent infinite recursion in left-recursive rules.\u001b[39;00m\n\u001b[0;32m    197\u001b[0m     expr_cache[pos] \u001b[38;5;241m=\u001b[39m IN_PROGRESS  \u001b[38;5;66;03m# Mark as in progress\u001b[39;00m\n\u001b[1;32m--> 198\u001b[0m     node \u001b[38;5;241m=\u001b[39m expr_cache[pos] \u001b[38;5;241m=\u001b[39m \u001b[38;5;28;43mself\u001b[39;49m\u001b[38;5;241;43m.\u001b[39;49m\u001b[43m_uncached_match\u001b[49m\u001b[43m(\u001b[49m\u001b[43mtext\u001b[49m\u001b[43m,\u001b[49m\u001b[43m \u001b[49m\u001b[43mpos\u001b[49m\u001b[43m,\u001b[49m\u001b[43m \u001b[49m\u001b[43mcache\u001b[49m\u001b[43m,\u001b[49m\u001b[43m \u001b[49m\u001b[43merror\u001b[49m\u001b[43m)\u001b[49m\n\u001b[0;32m    199\u001b[0m \u001b[38;5;28;01mif\u001b[39;00m node \u001b[38;5;129;01mis\u001b[39;00m IN_PROGRESS:\n\u001b[0;32m    200\u001b[0m     \u001b[38;5;28;01mraise\u001b[39;00m LeftRecursionError(text, pos\u001b[38;5;241m=\u001b[39m\u001b[38;5;241m-\u001b[39m\u001b[38;5;241m1\u001b[39m, expr\u001b[38;5;241m=\u001b[39m\u001b[38;5;28mself\u001b[39m)\n",
      "File \u001b[1;32mc:\\Users\\yakaichi\\AppData\\Local\\Programs\\Python\\Python312\\Lib\\site-packages\\parsimonious\\expressions.py:358\u001b[0m, in \u001b[0;36mSequence._uncached_match\u001b[1;34m(self, text, pos, cache, error)\u001b[0m\n\u001b[0;32m    356\u001b[0m children \u001b[38;5;241m=\u001b[39m []\n\u001b[0;32m    357\u001b[0m \u001b[38;5;28;01mfor\u001b[39;00m m \u001b[38;5;129;01min\u001b[39;00m \u001b[38;5;28mself\u001b[39m\u001b[38;5;241m.\u001b[39mmembers:\n\u001b[1;32m--> 358\u001b[0m     node \u001b[38;5;241m=\u001b[39m \u001b[43mm\u001b[49m\u001b[38;5;241;43m.\u001b[39;49m\u001b[43mmatch_core\u001b[49m\u001b[43m(\u001b[49m\u001b[43mtext\u001b[49m\u001b[43m,\u001b[49m\u001b[43m \u001b[49m\u001b[43mnew_pos\u001b[49m\u001b[43m,\u001b[49m\u001b[43m \u001b[49m\u001b[43mcache\u001b[49m\u001b[43m,\u001b[49m\u001b[43m \u001b[49m\u001b[43merror\u001b[49m\u001b[43m)\u001b[49m\n\u001b[0;32m    359\u001b[0m     \u001b[38;5;28;01mif\u001b[39;00m node \u001b[38;5;129;01mis\u001b[39;00m \u001b[38;5;28;01mNone\u001b[39;00m:\n\u001b[0;32m    360\u001b[0m         \u001b[38;5;28;01mreturn\u001b[39;00m \u001b[38;5;28;01mNone\u001b[39;00m\n",
      "File \u001b[1;32mc:\\Users\\yakaichi\\AppData\\Local\\Programs\\Python\\Python312\\Lib\\site-packages\\parsimonious\\expressions.py:198\u001b[0m, in \u001b[0;36mExpression.match_core\u001b[1;34m(self, text, pos, cache, error)\u001b[0m\n\u001b[0;32m    195\u001b[0m \u001b[38;5;28;01melse\u001b[39;00m:\n\u001b[0;32m    196\u001b[0m     \u001b[38;5;66;03m# TODO: Set default value to prevent infinite recursion in left-recursive rules.\u001b[39;00m\n\u001b[0;32m    197\u001b[0m     expr_cache[pos] \u001b[38;5;241m=\u001b[39m IN_PROGRESS  \u001b[38;5;66;03m# Mark as in progress\u001b[39;00m\n\u001b[1;32m--> 198\u001b[0m     node \u001b[38;5;241m=\u001b[39m expr_cache[pos] \u001b[38;5;241m=\u001b[39m \u001b[38;5;28;43mself\u001b[39;49m\u001b[38;5;241;43m.\u001b[39;49m\u001b[43m_uncached_match\u001b[49m\u001b[43m(\u001b[49m\u001b[43mtext\u001b[49m\u001b[43m,\u001b[49m\u001b[43m \u001b[49m\u001b[43mpos\u001b[49m\u001b[43m,\u001b[49m\u001b[43m \u001b[49m\u001b[43mcache\u001b[49m\u001b[43m,\u001b[49m\u001b[43m \u001b[49m\u001b[43merror\u001b[49m\u001b[43m)\u001b[49m\n\u001b[0;32m    199\u001b[0m \u001b[38;5;28;01mif\u001b[39;00m node \u001b[38;5;129;01mis\u001b[39;00m IN_PROGRESS:\n\u001b[0;32m    200\u001b[0m     \u001b[38;5;28;01mraise\u001b[39;00m LeftRecursionError(text, pos\u001b[38;5;241m=\u001b[39m\u001b[38;5;241m-\u001b[39m\u001b[38;5;241m1\u001b[39m, expr\u001b[38;5;241m=\u001b[39m\u001b[38;5;28mself\u001b[39m)\n",
      "File \u001b[1;32mc:\\Users\\yakaichi\\AppData\\Local\\Programs\\Python\\Python312\\Lib\\site-packages\\parsimonious\\expressions.py:301\u001b[0m, in \u001b[0;36mRegex._uncached_match\u001b[1;34m(self, text, pos, cache, error)\u001b[0m\n\u001b[0;32m    299\u001b[0m \u001b[38;5;28;01mdef\u001b[39;00m \u001b[38;5;21m_uncached_match\u001b[39m(\u001b[38;5;28mself\u001b[39m, text, pos, cache, error):\n\u001b[0;32m    300\u001b[0m \u001b[38;5;250m    \u001b[39m\u001b[38;5;124;03m\"\"\"Return length of match, ``None`` if no match.\"\"\"\u001b[39;00m\n\u001b[1;32m--> 301\u001b[0m     m \u001b[38;5;241m=\u001b[39m \u001b[38;5;28;43mself\u001b[39;49m\u001b[38;5;241;43m.\u001b[39;49m\u001b[43mre\u001b[49m\u001b[38;5;241;43m.\u001b[39;49m\u001b[43mmatch\u001b[49m\u001b[43m(\u001b[49m\u001b[43mtext\u001b[49m\u001b[43m,\u001b[49m\u001b[43m \u001b[49m\u001b[43mpos\u001b[49m\u001b[43m)\u001b[49m\n\u001b[0;32m    302\u001b[0m     \u001b[38;5;28;01mif\u001b[39;00m m \u001b[38;5;129;01mis\u001b[39;00m \u001b[38;5;129;01mnot\u001b[39;00m \u001b[38;5;28;01mNone\u001b[39;00m:\n\u001b[0;32m    303\u001b[0m         span \u001b[38;5;241m=\u001b[39m m\u001b[38;5;241m.\u001b[39mspan()\n",
      "\u001b[1;31mKeyboardInterrupt\u001b[0m: "
     ]
    }
   ],
   "source": [
    "from andante.program import AndanteProgram \n",
    "apmovies = AndanteProgram.build_from(\"movie_rec.pl\")\n",
    "apmovies.induce(update_knowledge=True, logging=True, verbose=0)"
   ]
  },
  {
   "cell_type": "code",
   "execution_count": null,
   "metadata": {},
   "outputs": [],
   "source": []
  }
 ],
 "metadata": {
  "kernelspec": {
   "display_name": "trail24-UZVMavSK-py3.10",
   "language": "python",
   "name": "python3"
  },
  "language_info": {
   "codemirror_mode": {
    "name": "ipython",
    "version": 3
   },
   "file_extension": ".py",
   "mimetype": "text/x-python",
   "name": "python",
   "nbconvert_exporter": "python",
   "pygments_lexer": "ipython3",
   "version": "3.10.14"
  }
 },
 "nbformat": 4,
 "nbformat_minor": 2
}
