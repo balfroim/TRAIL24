{
 "cells": [
  {
   "cell_type": "markdown",
   "metadata": {},
   "source": [
    "# Dataset"
   ]
  },
  {
   "cell_type": "code",
   "execution_count": 5,
   "metadata": {},
   "outputs": [],
   "source": [
    "from models.csv_loader import CSVLoader\n",
    "from models.products.product_registry import ProductRegistry\n",
    "from models.products.product_mapping_row import ProductMappingRow\n",
    "from models.products.product_row import ProductRow\n",
    "\n",
    "product_registry = ProductRegistry(CSVLoader(ProductRow).read(), CSVLoader(ProductMappingRow).read())"
   ]
  },
  {
   "cell_type": "code",
   "execution_count": 6,
   "metadata": {},
   "outputs": [],
   "source": [
    "from models.users.user_registry import UserRegistry\n",
    "from models.users.user_mapping_row import UserMappingRow\n",
    "from models.users.user_row import UserRow\n",
    "\n",
    "user_registry = UserRegistry(CSVLoader(UserRow).read(), CSVLoader(UserMappingRow).read())"
   ]
  },
  {
   "cell_type": "code",
   "execution_count": 7,
   "metadata": {},
   "outputs": [],
   "source": [
    "from models.ratings.rating_registry import RatingRegistry\n",
    "from models.ratings.rating_row import RatingRow\n",
    "\n",
    "rating_registry = RatingRegistry(CSVLoader(RatingRow).read(), user_registry, product_registry)"
   ]
  },
  {
   "cell_type": "markdown",
   "metadata": {},
   "source": [
    "# Tranform Data to Logic Programs"
   ]
  },
  {
   "cell_type": "code",
   "execution_count": 28,
   "metadata": {},
   "outputs": [
    {
     "name": "stdout",
     "output_type": "stream",
     "text": [
      "Progol logic program saved as ./movie_rec.pl\n"
     ]
    }
   ],
   "source": [
    "def generate_progol_program(user_registry, product_registry, rating_registry, output_file_name):\n",
    "    \n",
    "    # Mode declarations\n",
    "    modeh = f\"modeh(*, recommend(+user, -m_name)).\\n\"\n",
    "    features = [\"gender\", \"age\", \"m_gender\", \"m_name\", \"watched\"]\n",
    "    input_features = [[\"user\", \"value\"], [\"user\", \"value\"], [\"movie\", \"value\"], [\"movie\", \"value\"], [\"user\", \"movie\"]]\n",
    "    age_dic = {\"Under 18\": \"under18\", \"56+\": \"plus56\", \"25-34\": \"b25to34\", \"45-49\": \"b45to49\", \"50-55\": \"b50to55\", \"35-44\": \"b35to44\", \"18-24\": \"b18to24\"}\n",
    "\n",
    "    modeb_list = [f\"modeb(*, {feature}(+{inputs[0]}, -{inputs[1]})).\" for feature, inputs in zip(features, input_features)]\n",
    "    modeb_list.append(\"modeb(*,user(+userid)).\")\n",
    "    modeb_list.append(\"modeb(*,movie(+movieid)).\")\n",
    "\n",
    "    # Determinations\n",
    "    determinations = []\n",
    "    determinations.append(f\"determination(recommend/2, user/1).\")\n",
    "    for f in features:\n",
    "        determinations.append(f\"determination(recommend/2, {f}/2).\")\n",
    "    \n",
    "\n",
    "    # Background knowledge\n",
    "    background_knowledge = []\n",
    "    for user in user_registry.users:\n",
    "        user_id = user.uid\n",
    "        user_gender = user.gender\n",
    "        user_age = user.age\n",
    "        background_knowledge.append(f\"user({user_id}).\")\n",
    "        background_knowledge.append(f\"gender({user_id},{user_gender}).\")\n",
    "        background_knowledge.append(f\"age({user_id},{age_dic[user_age]}).\")\n",
    "    for product in product_registry.products:\n",
    "        movie_id = product.pid\n",
    "        movie_name = product.name\n",
    "        movie_name = movie_name.lower()\n",
    "        movie_name = movie_name.replace(\"-\",\"_\")\n",
    "        movie_name = movie_name.replace(\" \",\"_\")\n",
    "        movie_name = movie_name.replace(\"(\",\"_\")\n",
    "        movie_name = movie_name.replace(\")\",\"\")\n",
    "        movie_name = movie_name.replace(\"'\",\"\")\n",
    "        movie_name = movie_name.replace(\":\",\"\")\n",
    "        movie_name = movie_name.replace(\",\",\"\")\n",
    "        movie_name = movie_name.replace(\"?\",\"\")\n",
    "        movie_name = movie_name.replace(\"!\",\"\")\n",
    "        movie_name = movie_name.replace(\".\",\"\")\n",
    "        movie_name = movie_name.replace(\"&\",\"\")\n",
    "        movie_name = movie_name.replace(\"*\",\"_\")\n",
    "        movie_name = movie_name.replace(\"/\",\"_\")\n",
    "        if movie_name[0].isdigit():\n",
    "            movie_name = \"m\"+movie_name\n",
    "        movie_gender = product.genre\n",
    "        movie_gender = movie_gender.replace(\"-\",\"_\")\n",
    "        movie_gender = movie_gender.replace(\"'\",\"\")\n",
    "        movie_gender = movie_gender.replace(\"&\",\"\")\n",
    "        background_knowledge.append(f\"movie({movie_id}).\")\n",
    "        background_knowledge.append(f\"m_gender({movie_id},{movie_gender}).\")\n",
    "        background_knowledge.append(f\"m_name({movie_id},{movie_name}).\")\n",
    "    for rating in rating_registry.ratings:\n",
    "        user_id = rating.user\n",
    "        movie_id = rating.product\n",
    "        background_knowledge.append(f\"watched({user_id},{movie_id}).\")\n",
    "        \n",
    "    \n",
    "    # Positive and negative examples\n",
    "    positive_examples = []\n",
    "    negative_examples = []\n",
    "    for rating in rating_registry.ratings:\n",
    "        score = rating.rating\n",
    "        user_id = rating.user\n",
    "        movie_id = rating.product\n",
    "        if score > 3:\n",
    "            positive_examples.append(f\"recommend({user_id},{movie_id}).\")\n",
    "        else:\n",
    "            negative_examples.append(f\"recommend({user_id},{movie_id}).\")\n",
    "\n",
    "    # Combine all parts into a Progol-compatible logic program\n",
    "    progol_program = \"% Mode Declarations\\n\"\n",
    "    progol_program += modeh\n",
    "    progol_program += \"\\n\".join(modeb_list) + \"\\n\\n\"\n",
    "\n",
    "    progol_program += \"% Determinations\\n\"\n",
    "    progol_program += \"\\n\".join(determinations) + \"\\n\\n\"\n",
    "\n",
    "    progol_program += \"% Background Knowledge\\n:- begin_bg.\\n\"\n",
    "    progol_program += \"\\n\".join(background_knowledge) + \"\\n:- end_bg.\\n\\n\"\n",
    "\n",
    "    progol_program += \"% Positive Examples\\n:- begin_in_pos.\\n\"\n",
    "    progol_program += \"\\n\".join(positive_examples) + \"\\n:- end_in_pos.\\n\\n\"\n",
    "\n",
    "    progol_program += \"% Negative Examples\\n:- begin_in_neg.\\n\"\n",
    "    progol_program += \"\\n\".join(negative_examples) + \"\\n:- end_in_neg.\\n\"\n",
    "\n",
    "    # Save the Progol logic program to a file with a custom name\n",
    "    output_file_path = f\"{output_file_name}.pl\"\n",
    "    with open(output_file_path, \"w\") as file:\n",
    "        file.write(progol_program)\n",
    "\n",
    "    return output_file_path\n",
    "\n",
    "# Generate the Progol logic program\n",
    "# Usage example:\n",
    "output_file_name = './movie_rec'\n",
    "output_file = generate_progol_program(user_registry, product_registry, rating_registry, output_file_name)\n",
    "print(f\"Progol logic program saved as {output_file}\")"
   ]
  }
 ],
 "metadata": {
  "kernelspec": {
   "display_name": "trail24-UZVMavSK-py3.10",
   "language": "python",
   "name": "python3"
  },
  "language_info": {
   "codemirror_mode": {
    "name": "ipython",
    "version": 3
   },
   "file_extension": ".py",
   "mimetype": "text/x-python",
   "name": "python",
   "nbconvert_exporter": "python",
   "pygments_lexer": "ipython3",
   "version": "3.12.5"
  }
 },
 "nbformat": 4,
 "nbformat_minor": 2
}
