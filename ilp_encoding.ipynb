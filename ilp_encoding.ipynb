{
 "cells": [
  {
   "cell_type": "markdown",
   "metadata": {},
   "source": [
    "# Dataset"
   ]
  },
  {
   "cell_type": "code",
   "execution_count": 13,
   "metadata": {},
   "outputs": [],
   "source": [
    "from models.csv_loader import CSVLoader\n",
    "from models.products.product_registry import ProductRegistry\n",
    "from models.products.product_mapping_row import ProductMappingRow\n",
    "from models.products.product_row import ProductRow\n",
    "\n",
    "product_registry = ProductRegistry(CSVLoader(ProductRow).read(), CSVLoader(ProductMappingRow).read())"
   ]
  },
  {
   "cell_type": "code",
   "execution_count": 14,
   "metadata": {},
   "outputs": [],
   "source": [
    "from models.users.user_registry import UserRegistry\n",
    "from models.users.user_mapping_row import UserMappingRow\n",
    "from models.users.user_row import UserRow\n",
    "\n",
    "user_registry = UserRegistry(CSVLoader(UserRow).read(), CSVLoader(UserMappingRow).read())"
   ]
  },
  {
   "cell_type": "code",
   "execution_count": 15,
   "metadata": {},
   "outputs": [
    {
     "name": "stdout",
     "output_type": "stream",
     "text": [
      "number of ratings 932293\n",
      "rating 5\n",
      "timestamp 978300760\n"
     ]
    }
   ],
   "source": [
    "from models.ratings.rating_registry import RatingRegistry\n",
    "from models.ratings.rating_row import RatingRow\n",
    "\n",
    "rating_registry = RatingRegistry(CSVLoader(RatingRow).read(), user_registry, product_registry)\n",
    "print(\"number of ratings\", len(rating_registry.ratings))\n",
    "print(\"rating\", rating_registry.ratings[0].rating)\n",
    "print(\"timestamp\", rating_registry.ratings[0].timestamp)"
   ]
  },
  {
   "cell_type": "markdown",
   "metadata": {},
   "source": [
    "# Tranform Data to Logic Programs"
   ]
  },
  {
   "cell_type": "code",
   "execution_count": 18,
   "metadata": {},
   "outputs": [
    {
     "name": "stdout",
     "output_type": "stream",
     "text": [
      "Progol logic program saved as ./movie_rec.pl\n"
     ]
    }
   ],
   "source": [
    "def generate_progol_program(user_registry, product_registry, rating_registry, output_file_name):\n",
    "    \n",
    "    # Mode declarations\n",
    "    modeh = f\"modeh(*, recommend(+user, -m_name)).\\n\"\n",
    "    features = [\"gender\", \"age\", \"m_gender\", \"m_name\", \"watched\"]\n",
    "    input_features = [[\"user\", \"value\"], [\"user\", \"value\"], [\"movie\", \"value\"], [\"movie\", \"value\"], [\"user\", \"movie\"]]\n",
    "    age_dic = {\"Under 18\": \"under18\", \"56+\": \"plus56\", \"25-34\": \"b25to34\", \"45-49\": \"b45to49\", \"50-55\": \"b50to55\", \"35-44\": \"b35to44\", \"18-24\": \"b18to24\"}\n",
    "\n",
    "    modeb_list = [f\"modeb(*, {feature}(+{inputs[0]}, -{inputs[1]})).\" for feature, inputs in zip(features, input_features)]\n",
    "    modeb_list.append(\"modeb(*,user(+userid)).\")\n",
    "    modeb_list.append(\"modeb(*,movie(+movieid)).\")\n",
    "\n",
    "    # Determinations\n",
    "    determinations = []\n",
    "    determinations.append(f\"determination(recommend/2, user/1).\")\n",
    "    for f in features:\n",
    "        determinations.append(f\"determination(recommend/2, {f}/2).\")\n",
    "    \n",
    "\n",
    "    # Background knowledge\n",
    "    background_knowledge = []\n",
    "    for user in user_registry.users:\n",
    "        user_id = user.uid\n",
    "        user_gender = user.gender\n",
    "        user_age = user.age\n",
    "        background_knowledge.append(f\"user({user_id}).\")\n",
    "        background_knowledge.append(f\"gender({user_id},{user_gender}).\")\n",
    "        background_knowledge.append(f\"age({user_id},{age_dic[user_age]}).\")\n",
    "    for product in product_registry.products:\n",
    "        movie_id = product.pid\n",
    "        movie_name = product.name\n",
    "        movie_name = movie_name.lower()\n",
    "        movie_name = movie_name.replace(\"-\",\"_\")\n",
    "        movie_name = movie_name.replace(\" \",\"_\")\n",
    "        movie_name = movie_name.replace(\"(\",\"_\")\n",
    "        movie_name = movie_name.replace(\")\",\"\")\n",
    "        movie_name = movie_name.replace(\"'\",\"\")\n",
    "        movie_name = movie_name.replace(\":\",\"\")\n",
    "        movie_name = movie_name.replace(\",\",\"\")\n",
    "        movie_name = movie_name.replace(\"?\",\"\")\n",
    "        movie_name = movie_name.replace(\"!\",\"\")\n",
    "        movie_name = movie_name.replace(\".\",\"\")\n",
    "        movie_name = movie_name.replace(\"&\",\"\")\n",
    "        movie_name = movie_name.replace(\"*\",\"\")\n",
    "        movie_name = movie_name.replace(\"/\",\"_\")\n",
    "        movie_name = movie_name.replace(\"$\",\"\")\n",
    "        movie_name = movie_name.replace(\"#\", \"\")\n",
    "        movie_name = movie_name.replace(\"é\", \"\")\n",
    "        movie_name = movie_name.replace(\";\", \"\")\n",
    "        if movie_name[0].isdigit():\n",
    "            movie_name = \"m\"+movie_name\n",
    "        movie_gender = product.genre\n",
    "        movie_gender = movie_gender.lower()\n",
    "        movie_gender = movie_gender.replace(\"-\",\"_\")\n",
    "        movie_gender = movie_gender.replace(\"'\",\"\")\n",
    "        movie_gender = movie_gender.replace(\"&\",\"\")\n",
    "        background_knowledge.append(f\"movie({movie_id}).\")\n",
    "        background_knowledge.append(f\"m_gender({movie_id},{movie_gender}).\")\n",
    "        background_knowledge.append(f\"m_name({movie_id},{movie_name}).\")\n",
    "    for rating in rating_registry.ratings:\n",
    "        user_id = rating.user.uid\n",
    "        movie_id = rating.product.pid\n",
    "        background_knowledge.append(f\"watched({user_id},{movie_id}).\")\n",
    "        \n",
    "    \n",
    "    # Positive and negative examples\n",
    "    positive_examples = []\n",
    "    negative_examples = []\n",
    "    for rating in rating_registry.ratings:\n",
    "        score = rating.rating\n",
    "        user_id = rating.user.uid\n",
    "        movie_id = rating.product.pid\n",
    "        if score > 3:\n",
    "            positive_examples.append(f\"recommend({user_id},{movie_id}).\")\n",
    "        else:\n",
    "            negative_examples.append(f\"recommend({user_id},{movie_id}).\")\n",
    "\n",
    "    # Combine all parts into a Progol-compatible logic program\n",
    "    progol_program = \"% Mode Declarations\\n\"\n",
    "    progol_program += modeh\n",
    "    progol_program += \"\\n\".join(modeb_list) + \"\\n\\n\"\n",
    "\n",
    "    progol_program += \"% Determinations\\n\"\n",
    "    progol_program += \"\\n\".join(determinations) + \"\\n\\n\"\n",
    "\n",
    "    progol_program += \"% Background Knowledge\\n:- begin_bg.\\n\"\n",
    "    progol_program += \"\\n\".join(background_knowledge) + \"\\n:- end_bg.\\n\\n\"\n",
    "\n",
    "    progol_program += \"% Positive Examples\\n:- begin_in_pos.\\n\"\n",
    "    progol_program += \"\\n\".join(positive_examples) + \"\\n:- end_in_pos.\\n\\n\"\n",
    "\n",
    "    progol_program += \"% Negative Examples\\n:- begin_in_neg.\\n\"\n",
    "    progol_program += \"\\n\".join(negative_examples) + \"\\n:- end_in_neg.\\n\"\n",
    "\n",
    "    # Save the Progol logic program to a file with a custom name\n",
    "    output_file_path = f\"{output_file_name}.pl\"\n",
    "    with open(output_file_path, \"w\") as file:\n",
    "        file.write(progol_program)\n",
    "\n",
    "    return output_file_path\n",
    "\n",
    "# Generate the Progol logic program\n",
    "# Usage example:\n",
    "output_file_name = './movie_rec'\n",
    "output_file = generate_progol_program(user_registry, product_registry, rating_registry, output_file_name)\n",
    "print(f\"Progol logic program saved as {output_file}\")"
   ]
  },
  {
   "cell_type": "code",
   "execution_count": 26,
   "metadata": {},
   "outputs": [
    {
     "name": "stdout",
     "output_type": "stream",
     "text": [
      "{4099, 3086, 529, 5650, 3096, 5667, 3108, 44, 2092, 4659, 1079, 3141, 76, 5197, 1105, 5223, 1643, 4720, 1140, 4215, 3191, 2684, 1150, 4225, 2183, 3208, 2699, 2199, 5787, 1181, 1186, 678, 3762, 4277, 4790, 1721, 1216, 3265, 4808, 3272, 2776, 3292, 4323, 1770, 235, 5869, 752, 1780, 245, 3829, 3834, 3330, 4356, 5895, 1807, 3346, 798, 801, 4902, 1835, 2885, 3402, 2896, 3416, 2400, 5988, 5990, 5491, 4476, 3976, 396, 1936, 2967, 408, 3999, 1958, 5545, 3001, 1483, 5074, 4060, 477, 3041, 4579, 2029, 1519, 3056, 495, 4085, 509}\n"
     ]
    },
    {
     "ename": "NameError",
     "evalue": "name 'dflksj' is not defined",
     "output_type": "error",
     "traceback": [
      "\u001b[0;31m---------------------------------------------------------------------------\u001b[0m",
      "\u001b[0;31mNameError\u001b[0m                                 Traceback (most recent call last)",
      "Cell \u001b[0;32mIn[26], line 154\u001b[0m\n\u001b[1;32m    151\u001b[0m \u001b[38;5;66;03m# Generate the Progol logic program\u001b[39;00m\n\u001b[1;32m    152\u001b[0m \u001b[38;5;66;03m# Usage example:\u001b[39;00m\n\u001b[1;32m    153\u001b[0m output_file_name \u001b[38;5;241m=\u001b[39m \u001b[38;5;124m'\u001b[39m\u001b[38;5;124m./movie_rec\u001b[39m\u001b[38;5;124m'\u001b[39m\n\u001b[0;32m--> 154\u001b[0m \u001b[43mgenerate_progol_program_splitted\u001b[49m\u001b[43m(\u001b[49m\u001b[43muser_registry\u001b[49m\u001b[43m,\u001b[49m\u001b[43m \u001b[49m\u001b[43mproduct_registry\u001b[49m\u001b[43m,\u001b[49m\u001b[43m \u001b[49m\u001b[43mrating_registry\u001b[49m\u001b[43m,\u001b[49m\u001b[43m \u001b[49m\u001b[43moutput_file_name\u001b[49m\u001b[43m)\u001b[49m\n\u001b[1;32m    155\u001b[0m \u001b[38;5;28mprint\u001b[39m(\u001b[38;5;124mf\u001b[39m\u001b[38;5;124m\"\u001b[39m\u001b[38;5;124mProgol logic program saved\u001b[39m\u001b[38;5;124m\"\u001b[39m)\n",
      "Cell \u001b[0;32mIn[26], line 58\u001b[0m, in \u001b[0;36mgenerate_progol_program_splitted\u001b[0;34m(user_registry, product_registry, rating_registry, output_file_name)\u001b[0m\n\u001b[1;32m     56\u001b[0m     movies_in_partition\u001b[38;5;241m.\u001b[39madd(\u001b[38;5;28mint\u001b[39m(p_ex\u001b[38;5;241m.\u001b[39msplit(\u001b[38;5;124m'\u001b[39m\u001b[38;5;124m,\u001b[39m\u001b[38;5;124m'\u001b[39m)[\u001b[38;5;241m-\u001b[39m\u001b[38;5;241m1\u001b[39m]\u001b[38;5;241m.\u001b[39msplit(\u001b[38;5;124m'\u001b[39m\u001b[38;5;124m)\u001b[39m\u001b[38;5;124m'\u001b[39m)[\u001b[38;5;241m0\u001b[39m]))\n\u001b[1;32m     57\u001b[0m \u001b[38;5;28mprint\u001b[39m(users_in_partition)\n\u001b[0;32m---> 58\u001b[0m \u001b[43mdflksj\u001b[49m\n\u001b[1;32m     60\u001b[0m \u001b[38;5;66;03m# Background knowledge\u001b[39;00m\n\u001b[1;32m     61\u001b[0m background_knowledge \u001b[38;5;241m=\u001b[39m []\n",
      "\u001b[0;31mNameError\u001b[0m: name 'dflksj' is not defined"
     ]
    }
   ],
   "source": [
    "import numpy as np\n",
    "import os\n",
    "\n",
    "def generate_progol_program_splitted(user_registry, product_registry, rating_registry, output_file_name):\n",
    "    \n",
    "    # Mode declarations\n",
    "    modeh = f\"modeh(*, recommend(+user, -m_name)).\\n\"\n",
    "    features = [\"gender\", \"age\", \"m_gender\", \"m_name\", \"watched\"]\n",
    "    input_features = [[\"user\", \"value\"], [\"user\", \"value\"], [\"movie\", \"value\"], [\"movie\", \"value\"], [\"user\", \"movie\"]]\n",
    "    age_dic = {\"Under 18\": \"under18\", \"56+\": \"plus56\", \"25-34\": \"b25to34\", \"45-49\": \"b45to49\", \"50-55\": \"b50to55\", \"35-44\": \"b35to44\", \"18-24\": \"b18to24\"}\n",
    "\n",
    "    modeb_list = [f\"modeb(*, {feature}(+{inputs[0]}, -{inputs[1]})).\" for feature, inputs in zip(features, input_features)]\n",
    "    modeb_list.append(\"modeb(*,user(+userid)).\")\n",
    "    modeb_list.append(\"modeb(*,movie(+movieid)).\")\n",
    "\n",
    "    # Determinations\n",
    "    determinations = []\n",
    "    determinations.append(f\"determination(recommend/2, user/1).\")\n",
    "    for f in features:\n",
    "        determinations.append(f\"determination(recommend/2, {f}/2).\")\n",
    "    \n",
    "    # Positive and negative examples\n",
    "    positive_examples = []\n",
    "    negative_examples = []\n",
    "    for rating in rating_registry.ratings:\n",
    "        score = rating.rating\n",
    "        user_id = rating.user.uid\n",
    "        movie_id = rating.product.pid\n",
    "        if score > 3:\n",
    "            positive_examples.append(f\"recommend({user_id},{movie_id}).\")\n",
    "        else:\n",
    "            negative_examples.append(f\"recommend({user_id},{movie_id}).\")\n",
    "    \n",
    "    np.random.shuffle(positive_examples)\n",
    "    np.random.shuffle(negative_examples)\n",
    "    nb_partitions = 10000\n",
    "    nb_positive_per_partition = len(positive_examples)//nb_partitions\n",
    "    nb_negative_per_partition = len(negative_examples)//nb_partitions\n",
    "    \n",
    "    for i in range(nb_partitions):\n",
    "        start_pos = i * nb_positive_per_partition\n",
    "        end_pos = start_pos + nb_positive_per_partition\n",
    "        start_neg = i * nb_negative_per_partition\n",
    "        end_neg = start_neg + nb_negative_per_partition\n",
    "        \n",
    "        pos_examples_for_partition = positive_examples[start_pos:end_pos]\n",
    "        neg_examples_for_partition = negative_examples[start_neg:end_neg]\n",
    "        \n",
    "        users_in_partition = set()\n",
    "        movies_in_partition = set()\n",
    "        for p_ex in pos_examples_for_partition:\n",
    "            users_in_partition.add(int(p_ex.split(',')[0].split('(')[-1]))\n",
    "            movies_in_partition.add(int(p_ex.split(',')[-1].split(')')[0]))\n",
    "        for p_ex in neg_examples_for_partition:\n",
    "            users_in_partition.add(int(p_ex.split(',')[0].split('(')[-1]))\n",
    "            movies_in_partition.add(int(p_ex.split(',')[-1].split(')')[0]))\n",
    "\n",
    "        # Background knowledge\n",
    "        background_knowledge = []\n",
    "        for user in user_registry.users:\n",
    "            user_id = user.uid\n",
    "            if user_id in list(users_in_partition):\n",
    "                user_gender = user.gender\n",
    "                user_age = user.age\n",
    "                background_knowledge.append(f\"user({user_id}).\")\n",
    "                background_knowledge.append(f\"gender({user_id},{user_gender}).\")\n",
    "                background_knowledge.append(f\"age({user_id},{age_dic[user_age]}).\")\n",
    "        for product in product_registry.products:\n",
    "            movie_id = product.pid\n",
    "            if movie_id in movies_in_partition:\n",
    "                movie_name = product.name\n",
    "                movie_name = movie_name.lower()\n",
    "                movie_name = movie_name.replace(\"-\",\"_\")\n",
    "                movie_name = movie_name.replace(\" \",\"_\")\n",
    "                movie_name = movie_name.replace(\"(\",\"_\")\n",
    "                movie_name = movie_name.replace(\")\",\"\")\n",
    "                movie_name = movie_name.replace(\"'\",\"\")\n",
    "                movie_name = movie_name.replace(\":\",\"\")\n",
    "                movie_name = movie_name.replace(\",\",\"\")\n",
    "                movie_name = movie_name.replace(\"?\",\"\")\n",
    "                movie_name = movie_name.replace(\"!\",\"\")\n",
    "                movie_name = movie_name.replace(\".\",\"\")\n",
    "                movie_name = movie_name.replace(\"&\",\"\")\n",
    "                movie_name = movie_name.replace(\"*\",\"\")\n",
    "                movie_name = movie_name.replace(\"/\",\"_\")\n",
    "                movie_name = movie_name.replace(\"$\",\"\")\n",
    "                movie_name = movie_name.replace(\"#\", \"\")\n",
    "                movie_name = movie_name.replace(\"é\", \"\")\n",
    "                movie_name = movie_name.replace(\";\", \"\")\n",
    "                if movie_name[0].isdigit():\n",
    "                    movie_name = \"m\"+movie_name\n",
    "                movie_gender = product.genre\n",
    "                movie_gender = movie_gender.lower()\n",
    "                movie_gender = movie_gender.replace(\"-\",\"_\")\n",
    "                movie_gender = movie_gender.replace(\"'\",\"\")\n",
    "                movie_gender = movie_gender.replace(\"&\",\"\")\n",
    "                background_knowledge.append(f\"movie({movie_id}).\")\n",
    "                background_knowledge.append(f\"m_gender({movie_id},{movie_gender}).\")\n",
    "                background_knowledge.append(f\"m_name({movie_id},{movie_name}).\")\n",
    "        \"\"\"for user in users_in_partition:\n",
    "            user_rating = rating_registry.find_user_ratings(user)\n",
    "            user_rating.sort(key=lambda rating: rating.timestamp, reverse=True)\n",
    "            percentage_recent = 0.2\n",
    "            len_rating = int(len(user_rating)*percentage_recent)\n",
    "            user_rating = user_rating[:len_rating]\n",
    "            for rating in user_rating:\n",
    "                movie_id = rating.product.pid\n",
    "                if user_id in users_in_partition and movie_id in movies_in_partition:\n",
    "                    background_knowledge.append(f\"watched({user_id},{movie_id}).\") \"\"\"\n",
    "        for rating in pos_examples_for_partition:\n",
    "            user_id = rating.split(',')[0].split('(')[-1]\n",
    "            movie_id = rating.split(',')[-1].split(')')[0]\n",
    "            background_knowledge.append(f\"watched({user_id},{movie_id}).\")\n",
    "        for rating in neg_examples_for_partition:\n",
    "            user_id = rating.split(',')[0].split('(')[-1]\n",
    "            movie_id = rating.split(',')[-1].split(')')[0]\n",
    "            background_knowledge.append(f\"watched({user_id},{movie_id}).\")\n",
    "                \n",
    "        \n",
    "\n",
    "        # Combine all parts into a Progol-compatible logic program\n",
    "        progol_program = \"% Mode Declarations\\n\"\n",
    "        progol_program += modeh\n",
    "        progol_program += \"\\n\".join(modeb_list) + \"\\n\\n\"\n",
    "\n",
    "        progol_program += \"% Determinations\\n\"\n",
    "        progol_program += \"\\n\".join(determinations) + \"\\n\\n\"\n",
    "\n",
    "        progol_program += \"% Background Knowledge\\n:- begin_bg.\\n\"\n",
    "        progol_program += \"\\n\".join(background_knowledge) + \"\\n:- end_bg.\\n\\n\"\n",
    "\n",
    "        progol_program += \"% Positive Examples\\n:- begin_in_pos.\\n\"\n",
    "        progol_program += \"\\n\".join(pos_examples_for_partition) + \"\\n:- end_in_pos.\\n\\n\"\n",
    "\n",
    "        progol_program += \"% Negative Examples\\n:- begin_in_neg.\\n\"\n",
    "        progol_program += \"\\n\".join(neg_examples_for_partition) + \"\\n:- end_in_neg.\\n\"\n",
    "\n",
    "        # Save the Progol logic program to a file with a custom name\n",
    "        if not os.path.exists(\"moviepartitions/\"):\n",
    "            os.makedirs(\"moviepartitions\")\n",
    "        output_file_path = f\"moviepartitions/{output_file_name}_partition{i}.pl\"\n",
    "        with open(output_file_path, \"w\") as file:\n",
    "            file.write(progol_program)\n",
    "        qkfsjqlk\n",
    "\n",
    "# Generate the Progol logic program\n",
    "# Usage example:\n",
    "output_file_name = './movie_rec'\n",
    "generate_progol_program_splitted(user_registry, product_registry, rating_registry, output_file_name)\n",
    "print(f\"Progol logic program saved\")"
   ]
  },
  {
   "cell_type": "markdown",
   "metadata": {},
   "source": [
    "# Horizontal Partitionning"
   ]
  },
  {
   "cell_type": "code",
   "execution_count": 22,
   "metadata": {},
   "outputs": [
    {
     "ename": "ModuleNotFoundError",
     "evalue": "No module named 'sklearn'",
     "output_type": "error",
     "traceback": [
      "\u001b[1;31m---------------------------------------------------------------------------\u001b[0m",
      "\u001b[1;31mModuleNotFoundError\u001b[0m                       Traceback (most recent call last)",
      "Cell \u001b[1;32mIn[22], line 2\u001b[0m\n\u001b[0;32m      1\u001b[0m \u001b[38;5;28;01mimport\u001b[39;00m \u001b[38;5;21;01mpandas\u001b[39;00m \u001b[38;5;28;01mas\u001b[39;00m \u001b[38;5;21;01mpd\u001b[39;00m\n\u001b[1;32m----> 2\u001b[0m \u001b[38;5;28;01mfrom\u001b[39;00m \u001b[38;5;21;01msklearn\u001b[39;00m\u001b[38;5;21;01m.\u001b[39;00m\u001b[38;5;21;01mmodel_selection\u001b[39;00m \u001b[38;5;28;01mimport\u001b[39;00m StratifiedShuffleSplit\n\u001b[0;32m      4\u001b[0m \u001b[38;5;66;03m# Load the dataset\u001b[39;00m\n\u001b[0;32m      5\u001b[0m file_path \u001b[38;5;241m=\u001b[39m \u001b[38;5;124m'\u001b[39m\u001b[38;5;124mC:/Users/yakaichi/OneDrive - Université de Namur/Bureau/Data/pre_processed_data/smallestaftercorrelationstudies2_intubationrecords_dataset.xlsx\u001b[39m\u001b[38;5;124m'\u001b[39m\n",
      "\u001b[1;31mModuleNotFoundError\u001b[0m: No module named 'sklearn'"
     ]
    }
   ],
   "source": [
    "import pandas as pd\n",
    "from sklearn.model_selection import StratifiedShuffleSplit\n",
    "\n",
    "# Hypothesis\n",
    "target = 'recommend'\n",
    "\n",
    "# Specify the number of splits\n",
    "num_splits = 6  # You can adjust this depending on how many files you want\n",
    "\n",
    "# Use StratifiedShuffleSplit to create balanced splits\n",
    "sss = StratifiedShuffleSplit(n_splits=num_splits, test_size=1/num_splits, random_state=42)\n",
    "\n",
    "# Directory to save the splits\n",
    "directory = 'C:/Users/yakaichi/OneDrive - Université de Namur/Bureau/Data/pre_processed_data/programs_parts3/'\n",
    "\n",
    "# Split and save the datasets\n",
    "for i, (_, test_index) in enumerate(sss.split(data, data[target_column])):\n",
    "    split_df = data.iloc[test_index]\n",
    "    split_df.to_excel(f'{directory}horizontal_split_dataset_{i+1}.xlsx', index=False)\n",
    "\n",
    "print(\"Balanced datasets have been saved successfully.\")"
   ]
  },
  {
   "cell_type": "markdown",
   "metadata": {},
   "source": [
    "# ILP Learning "
   ]
  },
  {
   "cell_type": "code",
   "execution_count": 22,
   "metadata": {},
   "outputs": [
    {
     "data": {
      "text/plain": [
       "Knowledge object (class: TreeShapedKnowledge)\n",
       "Clauses:"
      ]
     },
     "execution_count": 22,
     "metadata": {},
     "output_type": "execute_result"
    }
   ],
   "source": [
    "from andante.program import AndanteProgram \n",
    "apmovies = AndanteProgram.build_from(\"moviepartitions/movie_rec_partition0.pl\")\n",
    "apmovies.induce(update_knowledge=True, logging=True, verbose=0)"
   ]
  },
  {
   "cell_type": "code",
   "execution_count": null,
   "metadata": {},
   "outputs": [],
   "source": []
  }
 ],
 "metadata": {
  "kernelspec": {
   "display_name": "trail24-UZVMavSK-py3.10",
   "language": "python",
   "name": "python3"
  },
  "language_info": {
   "codemirror_mode": {
    "name": "ipython",
    "version": 3
   },
   "file_extension": ".py",
   "mimetype": "text/x-python",
   "name": "python",
   "nbconvert_exporter": "python",
   "pygments_lexer": "ipython3",
   "version": "3.10.14"
  }
 },
 "nbformat": 4,
 "nbformat_minor": 2
}
