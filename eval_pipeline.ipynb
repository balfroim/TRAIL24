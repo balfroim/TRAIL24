{
 "cells": [
  {
   "cell_type": "markdown",
   "id": "cc9fc5d1",
   "metadata": {},
   "source": [
    "### Loading Data"
   ]
  },
  {
   "cell_type": "code",
   "execution_count": 1,
   "id": "e91ee58e",
   "metadata": {},
   "outputs": [],
   "source": [
    "from models.csv_loader import CSVLoader\n",
    "from models.products.product_registry import ProductRegistry\n",
    "from models.products.product_mapping_row import ProductMappingRow\n",
    "from models.products.product_row import ProductRow\n",
    "\n",
    "product_registry = ProductRegistry(CSVLoader(ProductRow).read(), CSVLoader(ProductMappingRow).read())"
   ]
  },
  {
   "cell_type": "code",
   "execution_count": 2,
   "id": "80b680ca",
   "metadata": {},
   "outputs": [],
   "source": [
    "from models.users.user_registry import UserRegistry\n",
    "from models.users.user_mapping_row import UserMappingRow\n",
    "from models.users.user_row import UserRow\n",
    "\n",
    "user_registry = UserRegistry(CSVLoader(UserRow).read(), CSVLoader(UserMappingRow).read())"
   ]
  },
  {
   "cell_type": "code",
   "execution_count": 3,
   "id": "d27e1933",
   "metadata": {},
   "outputs": [],
   "source": [
    "from models.ratings.rating_registry import RatingRegistry\n",
    "from models.ratings.rating_row import RatingRow\n",
    "\n",
    "rating_registry = RatingRegistry(CSVLoader(RatingRow).read(), user_registry, product_registry)"
   ]
  },
  {
   "cell_type": "markdown",
   "id": "59c5d191",
   "metadata": {},
   "source": [
    "### Loading Recommender"
   ]
  },
  {
   "cell_type": "code",
   "execution_count": 4,
   "id": "f85891e3",
   "metadata": {},
   "outputs": [],
   "source": [
    "from recommendation.recommenders.random_recommender import RandomRecommender\n",
    "recommender = RandomRecommender(product_registry, user_registry, rating_registry)"
   ]
  },
  {
   "cell_type": "markdown",
   "id": "8f29250a",
   "metadata": {},
   "source": [
    "### Generating Recommendations top-10 paths for all users"
   ]
  },
  {
   "cell_type": "code",
   "execution_count": 5,
   "id": "ba636793",
   "metadata": {},
   "outputs": [],
   "source": [
    "from tqdm import tqdm\n",
    "\n",
    "def recommendation_for_all_users(user_registry, recommender, last_user:int=6039):\n",
    "    \"\"\"Generating the top-10 recommendation from first user up to 'last_user'.\n",
    "    The generated recommendation are saved in the format Dict[int, list[int]] with the\n",
    "    key being the user uid and the list[int] being the top-10 recommended products.\n",
    "    \n",
    "    Note that 6039 is the last uid you can use  for 'last_user' if there are no additional users.\n",
    "    \n",
    "    param:\n",
    "        user_registry: a UserRegistry class instanciated.\n",
    "        recommender: a class derived from AbstractRecommender.\n",
    "        last_user: the int representing the range from users you want to evaluate.\n",
    "        \n",
    "    return:\n",
    "        users_recommendation: Dict[int, list[int]]; A dictionary containing the user uid until \n",
    "        the 'last_user' and the values being the top-10 recommendation for each user uid.''\n",
    "    \"\"\"\n",
    "    users_recommendation = {}\n",
    "    \n",
    "    for uid in tqdm(range(1,last_user+1)):\n",
    "        target_user = user_registry.find_by_uid(uid)\n",
    "        recommendation_paths = recommender.recommend(target_user, k=10)\n",
    "        recommended_nodes = [int(reco_path.recommendation[1].entity_id) for reco_path in recommendation_paths]\n",
    "        users_recommendation[uid] = recommended_nodes\n",
    "        \n",
    "    return users_recommendation\n",
    "\n",
    "\n",
    "## Testing the time execution\n",
    "# import time\n",
    "\n",
    "# def recommendation_for_all_users(user_registry, recommender, nbr=):\n",
    "#     users_recommendation = {}\n",
    "    \n",
    "#     start_time = time.time()\n",
    "    \n",
    "#     for uid in tqdm(range(1, 10)):\n",
    "#         loop_start_time = time.time()\n",
    "\n",
    "#         # Measure time for finding the target user\n",
    "#         find_user_start = time.time()\n",
    "#         target_user = user_registry.find_by_uid(uid)\n",
    "#         find_user_end = time.time()\n",
    "#         print(f\"Time to find user {uid}: {find_user_end - find_user_start:.4f} seconds\")\n",
    "\n",
    "#         # Measure time for generating recommendations\n",
    "#         recommend_start = time.time()\n",
    "#         recommendation_paths = recommender.recommend(target_user, k=10)\n",
    "#         recommend_end = time.time()\n",
    "#         print(f\"Time to recommend for user {uid}: {recommend_end - recommend_start:.4f} seconds\")\n",
    "\n",
    "#         # Measure time for processing recommendation paths\n",
    "#         process_start = time.time()\n",
    "#         recommended_nodes = [int(reco_path.recommendation[1].entity_id) for reco_path in recommendation_paths]\n",
    "#         users_recommendation[uid] = recommended_nodes\n",
    "#         process_end = time.time()\n",
    "#         print(f\"Time to process recommendations for user {uid}: {process_end - process_start:.4f} seconds\")\n",
    "        \n",
    "#         loop_end_time = time.time()\n",
    "#         print(f\"Total time for user {uid}: {loop_end_time - loop_start_time:.4f} seconds\")\n",
    "\n",
    "#     total_time = time.time() - start_time\n",
    "#     print(f\"Total time for all users: {total_time:.4f} seconds\")\n",
    "    \n",
    "#     return users_recommendation"
   ]
  },
  {
   "cell_type": "code",
   "execution_count": 6,
   "id": "e6c6a4b5",
   "metadata": {},
   "outputs": [
    {
     "name": "stderr",
     "output_type": "stream",
     "text": [
      "100%|████████████████████████████████████████████████████████████████████████████████████| 4/4 [01:04<00:00, 16.06s/it]\n"
     ]
    }
   ],
   "source": [
    "topk_items = recommendation_for_all_users(user_registry=user_registry, recommender=recommender, last_user=4)"
   ]
  },
  {
   "cell_type": "code",
   "execution_count": 7,
   "id": "7240a1d1",
   "metadata": {},
   "outputs": [
    {
     "name": "stdout",
     "output_type": "stream",
     "text": [
      "{1: [1218, 2165, 2613, 1151, 821, 492, 2585, 546, 2147, 1230], 2: [2396, 694, 773, 1880, 2689, 209, 2752, 465, 2261, 1189], 3: [2418, 1994, 2099, 611, 411, 2338, 1030, 1266, 1861, 200], 4: [2738, 2200, 2662, 2727, 2491, 1231, 1476, 466, 86, 631]}\n"
     ]
    }
   ],
   "source": [
    "print(topk_items)"
   ]
  },
  {
   "cell_type": "markdown",
   "id": "1e6cde73",
   "metadata": {},
   "source": [
    "### Evaluation"
   ]
  },
  {
   "cell_type": "code",
   "execution_count": 11,
   "id": "d2c82233",
   "metadata": {},
   "outputs": [
    {
     "name": "stderr",
     "output_type": "stream",
     "text": [
      "Evaluating rec quality for None: 100%|███████████████████████████████████████████████████████████| 4/4 [00:00<?, ?it/s]"
     ]
    },
    {
     "name": "stdout",
     "output_type": "stream",
     "text": [
      "Number of users: 4, average topk size: 10.00\n",
      "ndcg: 0.0, mrr: 0.0, precision: 0.0, recall: 0.0, serendipity: 1.0, diversity: 0.5, novelty: 0.96, coverage: 0.01\n"
     ]
    },
    {
     "name": "stderr",
     "output_type": "stream",
     "text": [
      "\n"
     ]
    }
   ],
   "source": [
    "from metrics_alone.eval_all_metrics import evaluate_rec_quality\n",
    "\n",
    "out = evaluate_rec_quality(dataset_name=\"ml1m\", \n",
    "                     topk_items=topk_items)"
   ]
  },
  {
   "cell_type": "code",
   "execution_count": 12,
   "id": "69f4dcaf",
   "metadata": {},
   "outputs": [
    {
     "data": {
      "text/plain": [
       "({'ndcg': [0.0, 0.0, 0.0, 0.0],\n",
       "  'mrr': [0.0, 0.0, 0.0, 0.0],\n",
       "  'precision': [0.0, 0.0, 0.0, 0.0],\n",
       "  'recall': [0.0, 0.0, 0.0, 0.0],\n",
       "  'serendipity': [1.0, 1.0, 1.0, 1.0],\n",
       "  'diversity': [0.5, 0.5, 0.4, 0.6],\n",
       "  'novelty': [0.9390083217753121,\n",
       "   0.9592233009708739,\n",
       "   0.9765603328710126,\n",
       "   0.9643550624133148]},\n",
       " {'ndcg': 0.0,\n",
       "  'mrr': 0.0,\n",
       "  'precision': 0.0,\n",
       "  'recall': 0.0,\n",
       "  'serendipity': 1.0,\n",
       "  'diversity': 0.5,\n",
       "  'novelty': 0.9597867545076284,\n",
       "  'coverage': 0.01340931947703654})"
      ]
     },
     "execution_count": 12,
     "metadata": {},
     "output_type": "execute_result"
    }
   ],
   "source": [
    "out"
   ]
  },
  {
   "cell_type": "code",
   "execution_count": 9,
   "id": "d6da83cf",
   "metadata": {},
   "outputs": [
    {
     "name": "stderr",
     "output_type": "stream",
     "text": [
      "Evaluating rec quality for None: 100%|██████████████████████████████████████████| 6040/6040 [00:00<00:00, 11104.97it/s]"
     ]
    },
    {
     "name": "stdout",
     "output_type": "stream",
     "text": [
      "Number of users: 6040, average topk size: 10.00\n",
      "ndcg: 0.25, mrr: 0.18, precision: 0.09, recall: 0.04, serendipity: 0.72, diversity: 0.4, novelty: 0.92, coverage: 0.39\n"
     ]
    },
    {
     "name": "stderr",
     "output_type": "stream",
     "text": [
      "\n"
     ]
    }
   ],
   "source": [
    "# Verifying that we obtain the same results compared to the initial github\n",
    "# If we use their pgpr recommendation file \"top10_items.pkl\"\n",
    "# We should obtain the following : \n",
    "#ndcg: 0.25, mrr: 0.18, precision: 0.09, recall: 0.04, serendipity: 0.72, diversity: 0.85, novelty: 0.92, coverage: 0.39\n",
    "\n",
    "import pickle\n",
    "with open(f\"top10_items.pkl\", 'rb') as pred_top_items_file:\n",
    "    pgpr_item_topks = pickle.load(pred_top_items_file)\n",
    "    \n",
    "out = evaluate_rec_quality(dataset_name=\"ml1m\", \n",
    "                     topk_items=pgpr_item_topks)"
   ]
  },
  {
   "cell_type": "code",
   "execution_count": null,
   "id": "b228d3f0",
   "metadata": {},
   "outputs": [],
   "source": [
    "out"
   ]
  }
 ],
 "metadata": {
  "kernelspec": {
   "display_name": "Python 3",
   "language": "python",
   "name": "python3"
  },
  "language_info": {
   "codemirror_mode": {
    "name": "ipython",
    "version": 3
   },
   "file_extension": ".py",
   "mimetype": "text/x-python",
   "name": "python",
   "nbconvert_exporter": "python",
   "pygments_lexer": "ipython3",
   "version": "3.8.8"
  }
 },
 "nbformat": 4,
 "nbformat_minor": 5
}
